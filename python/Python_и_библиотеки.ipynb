{
  "nbformat": 4,
  "nbformat_minor": 0,
  "metadata": {
    "colab": {
      "provenance": []
    },
    "kernelspec": {
      "name": "python3",
      "display_name": "Python 3"
    },
    "language_info": {
      "name": "python"
    }
  },
  "cells": [
    {
      "cell_type": "markdown",
      "source": [
        "# Типы данных. Функциии.\n"
      ],
      "metadata": {
        "id": "fInpN42X13IO"
      }
    },
    {
      "cell_type": "markdown",
      "source": [
        "# Новый раздел"
      ],
      "metadata": {
        "id": "cU9KhlcVjRkY"
      }
    },
    {
      "cell_type": "code",
      "source": [
        "print('hello, python')"
      ],
      "metadata": {
        "colab": {
          "base_uri": "https://localhost:8080/"
        },
        "id": "yGdWOdtR24Jk",
        "outputId": "77e99a90-e50b-4291-e8e2-4b37158b7761"
      },
      "execution_count": null,
      "outputs": [
        {
          "output_type": "stream",
          "name": "stdout",
          "text": [
            "hello, python\n"
          ]
        },
        {
          "output_type": "execute_result",
          "data": {
            "text/plain": [
              "[5, 7, 9]"
            ]
          },
          "metadata": {},
          "execution_count": 1
        }
      ]
    },
    {
      "cell_type": "markdown",
      "source": [
        "## Задача: восстановить поврежденный xml\n",
        "\n",
        "На вход подается XML-строкa, состоящая из строчных букв латинского алфавита, угловых скобок «<», «>» и слэшей «/». В этой строке один символ ошибочно заменен на другой – букву, угловую скобку, либо слэш. Длина строки – от 7 до 1000 символов.\n",
        "\n",
        "Напишите программу, которая находит ошибочный символ и заменяет его на правильный – так, чтобы все теги XML-строки корректно закрывались.\n",
        "\n",
        "**Пример ввода:**\n",
        "```plain\n",
        "<a><aa>\n",
        "<a><>a>\n",
        "<ab/</ab>\n",
        "<a><ab></ab><c></c></b>\n",
        "```\n",
        "\n",
        "**Пример вывода:**\n",
        "```plain\n",
        "<a></a>\n",
        "<a></a>\n",
        "<ab></ab>\n",
        "<a><ab></ab><c></c></a> <b><ab></ab><c></c></b>\n",
        "```"
      ],
      "metadata": {
        "id": "EExFeoQz5jnI"
      }
    },
    {
      "cell_type": "code",
      "source": [
        "str1 = <a><aa>\n",
        "for i in str1:\n",
        "  if i = '<':\n"
      ],
      "metadata": {
        "id": "FO68geJyzUsB"
      },
      "execution_count": null,
      "outputs": []
    },
    {
      "cell_type": "code",
      "source": [
        "instr = input('? ')\n",
        "cmpstr = instr[::-1]"
      ],
      "metadata": {
        "id": "9K0bUXK0kzjY",
        "colab": {
          "base_uri": "https://localhost:8080/"
        },
        "outputId": "047c13ed-b355-46cd-8936-5b87440b63ca"
      },
      "execution_count": null,
      "outputs": [
        {
          "output_type": "execute_result",
          "data": {
            "text/plain": [
              "6.0"
            ]
          },
          "metadata": {},
          "execution_count": 1
        }
      ]
    },
    {
      "cell_type": "code",
      "source": [],
      "metadata": {
        "id": "aAfH6Hmhkzu4"
      },
      "execution_count": null,
      "outputs": []
    },
    {
      "cell_type": "code",
      "source": [],
      "metadata": {
        "id": "l3v1fTPmkz8G"
      },
      "execution_count": null,
      "outputs": []
    },
    {
      "cell_type": "code",
      "source": [],
      "metadata": {
        "id": "nBdD0XpEixyI"
      },
      "execution_count": null,
      "outputs": []
    },
    {
      "cell_type": "code",
      "source": [],
      "metadata": {
        "id": "HeGpAWZsk7cJ"
      },
      "execution_count": null,
      "outputs": []
    },
    {
      "cell_type": "markdown",
      "source": [
        "## Задача: Вывод на экран календаря за произвольный год и месяц в удобном формате.\n",
        "\n"
      ],
      "metadata": {
        "id": "LyQ4P04_7NN_"
      }
    },
    {
      "cell_type": "code",
      "source": [
        "month_length = 31, 28, 31, 30, 31, 30, 31, 31, 30, 31, 30, 31\n",
        "key_array = ('Январь', 'Февраль', 'Март', 'Апрель', 'Май', 'Июнь', 'Июль',\n",
        "             'Август', 'Сентябрь', 'Октябрь', 'Ноябрь', 'Декабрь')\n",
        "\n",
        "def print_month(month, year):\n",
        "  ..."
      ],
      "metadata": {
        "id": "QZmPumut7SNL"
      },
      "execution_count": null,
      "outputs": []
    },
    {
      "cell_type": "code",
      "source": [
        "import datetime\n",
        "month_length = 31, 28, 31, 30, 31, 30, 31, 31, 30, 31, 30, 31\n",
        "key_array = ('Январь', 'Февраль', 'Март', 'Апрель', 'Май', 'Июнь', 'Июль',\n",
        "             'Август', 'Сентябрь', 'Октябрь', 'Ноябрь', 'Декабрь')\n",
        "\n",
        "g = int (input ('Введите год '))\n",
        "m = int (input ('Введите месяц (цифра от 1 до 12)'))\n",
        "l = month_length [m-1]\n",
        "#print (l)\n",
        "date = datetime.datetime(g, m, 1)\n",
        "\n",
        "# Вывод дня недели\n",
        "d = int(date.weekday())\n",
        "#print(d)\n",
        "print()\n",
        "print (' ', g, ' год ', key_array[m-1])\n",
        "print ('Mo ', 'Tu ', 'We ', 'Th ', 'Fr ', 'Sa', 'Su ')\n",
        "i = 0\n",
        "n = 1\n",
        "while i <= d:\n",
        "  print ('   ', end = '')\n",
        "  i = i + 1\n",
        "\n",
        "while n < l:\n",
        "  while i < 7 and n < l:\n",
        "    if len (str(n)) == 1:\n",
        "      print (n, '  ', end = '')\n",
        "    else:\n",
        "      print (n, ' ', end = '')\n",
        "    n = n + 1\n",
        "    i = i + 1\n",
        "  print (n, ' ')\n",
        "  n = n + 1\n",
        "  i = 1"
      ],
      "metadata": {
        "colab": {
          "base_uri": "https://localhost:8080/"
        },
        "id": "N407Ux4ui0_p",
        "outputId": "e9524181-2f10-4f4e-ae2d-39139abe56b3"
      },
      "execution_count": null,
      "outputs": [
        {
          "output_type": "stream",
          "name": "stdout",
          "text": [
            "Введите год 2024\n",
            "Введите месяц (цифра от 1 до 12)8\n",
            "\n",
            "  2024  год  Август\n",
            "Mo  Tu  We  Th  Fr  Sa Su \n",
            "            1   2   3   4  \n",
            "5   6   7   8   9   10  11  \n",
            "12  13  14  15  16  17  18  \n",
            "19  20  21  22  23  24  25  \n",
            "26  27  28  29  30  31  \n"
          ]
        }
      ]
    },
    {
      "cell_type": "markdown",
      "source": [],
      "metadata": {
        "id": "XVE2Fj5Gj8HQ"
      }
    },
    {
      "cell_type": "markdown",
      "source": [
        "## Задача: Сжатие строки RLE\n",
        "\n",
        "Необходимо реализовать функцию, принимающую в аргументах строку, состоящую из букв, и возвращающую новую строку, в которой повторяющиеся буквы заменены количеством повторений"
      ],
      "metadata": {
        "id": "wJSTQ9zH83CQ"
      }
    },
    {
      "cell_type": "code",
      "source": [
        "s = 'odkkkolddddopcnllllnnmvgfdyyyyy'\n",
        "s2 = ''\n",
        "l = len (s)\n",
        "#print (l)\n",
        "i = 0\n",
        "while i < l:\n",
        "  a = s[i]\n",
        "  #print ('s[i] ', s[i])\n",
        "  j = i + 1\n",
        "  k = 1\n",
        "  while j < l and a == s [j]:\n",
        "    k = k + 1\n",
        "    j = j + 1\n",
        "    #print ('s[j] ', s[j], k)\n",
        "  s2 = s2 + a\n",
        "  if k > 1:\n",
        "    s2 = s2 + str(k)\n",
        "    i = j\n",
        "  else:\n",
        "    i = i + 1\n",
        "print (s2)\n",
        "print (s)"
      ],
      "metadata": {
        "colab": {
          "base_uri": "https://localhost:8080/"
        },
        "id": "qfIUNMLZXiW6",
        "outputId": "3eef9bd7-e7b8-4193-8566-c36ece165d0f"
      },
      "execution_count": null,
      "outputs": [
        {
          "output_type": "stream",
          "name": "stdout",
          "text": [
            "odk3old4opcnl4n2mvgfdy5\n",
            "odkkkolddddopcnllllnnmvgfdyyyyy\n"
          ]
        }
      ]
    }
  ]
}