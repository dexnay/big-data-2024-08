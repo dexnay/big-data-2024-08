{
  "nbformat": 4,
  "nbformat_minor": 0,
  "metadata": {
    "colab": {
      "provenance": []
    },
    "kernelspec": {
      "name": "python3",
      "display_name": "Python 3"
    },
    "language_info": {
      "name": "python"
    }
  },
  "cells": [
    {
      "cell_type": "code",
      "execution_count": null,
      "metadata": {
        "colab": {
          "base_uri": "https://localhost:8080/"
        },
        "id": "9feZxw5KYQ1b",
        "outputId": "9260468d-70f9-4c3c-c02e-157b870dd6b5"
      },
      "outputs": [
        {
          "output_type": "execute_result",
          "data": {
            "text/plain": [
              "[]"
            ]
          },
          "metadata": {},
          "execution_count": 2
        }
      ],
      "source": [
        "import gc\n",
        "\n",
        "gc.garbage"
      ]
    },
    {
      "cell_type": "code",
      "source": [
        "import dis\n",
        "\n",
        "def hello_world():\n",
        "  print(\"hello world\")\n",
        "\n",
        "dis.dis(hello_world)"
      ],
      "metadata": {
        "colab": {
          "base_uri": "https://localhost:8080/"
        },
        "id": "zF79JWDedtuE",
        "outputId": "2db0441c-540c-409e-9e7f-5a245ee3fb52"
      },
      "execution_count": null,
      "outputs": [
        {
          "output_type": "stream",
          "name": "stdout",
          "text": [
            "  4           0 LOAD_GLOBAL              0 (print)\n",
            "              2 LOAD_CONST               1 ('hello world')\n",
            "              4 CALL_FUNCTION            1\n",
            "              6 POP_TOP\n",
            "              8 LOAD_CONST               0 (None)\n",
            "             10 RETURN_VALUE\n"
          ]
        }
      ]
    },
    {
      "cell_type": "code",
      "source": [
        "gc.collect()"
      ],
      "metadata": {
        "colab": {
          "base_uri": "https://localhost:8080/"
        },
        "id": "C1Mi8lx0ddyE",
        "outputId": "d4c2faea-e3b9-4e88-b949-af4410019587"
      },
      "execution_count": null,
      "outputs": [
        {
          "output_type": "execute_result",
          "data": {
            "text/plain": [
              "23"
            ]
          },
          "metadata": {},
          "execution_count": 3
        }
      ]
    },
    {
      "cell_type": "markdown",
      "source": [
        "## Функции"
      ],
      "metadata": {
        "id": "Hrf6kYYwYWSs"
      }
    },
    {
      "cell_type": "code",
      "source": [
        "def my_function():\n",
        "  pass"
      ],
      "metadata": {
        "id": "_4u_AeOUYaRX"
      },
      "execution_count": null,
      "outputs": []
    },
    {
      "cell_type": "code",
      "source": [
        "result = my_function()\n",
        "result == None"
      ],
      "metadata": {
        "colab": {
          "base_uri": "https://localhost:8080/"
        },
        "id": "70ZamM7qem6d",
        "outputId": "35acc71d-07fc-46ff-b5a3-77c40a2e996a"
      },
      "execution_count": null,
      "outputs": [
        {
          "output_type": "execute_result",
          "data": {
            "text/plain": [
              "True"
            ]
          },
          "metadata": {},
          "execution_count": 14
        }
      ]
    },
    {
      "cell_type": "code",
      "source": [
        "print('123')"
      ],
      "metadata": {
        "colab": {
          "base_uri": "https://localhost:8080/"
        },
        "id": "v5g9a_qFfmtd",
        "outputId": "55d89c19-5446-4b89-c0a0-445d2c9ef72f"
      },
      "execution_count": null,
      "outputs": [
        {
          "output_type": "stream",
          "name": "stdout",
          "text": [
            "123\n"
          ]
        }
      ]
    },
    {
      "cell_type": "code",
      "source": [
        "def our_print():\n",
        "  print('123')\n",
        "\n",
        "our_print()"
      ],
      "metadata": {
        "colab": {
          "base_uri": "https://localhost:8080/",
          "height": 280
        },
        "id": "c3heky-MevZa",
        "outputId": "0863ddb6-8fb1-4177-b486-4891489ab068"
      },
      "execution_count": null,
      "outputs": [
        {
          "output_type": "error",
          "ename": "TypeError",
          "evalue": "print() takes 0 positional arguments but 1 was given",
          "traceback": [
            "\u001b[0;31m---------------------------------------------------------------------------\u001b[0m",
            "\u001b[0;31mTypeError\u001b[0m                                 Traceback (most recent call last)",
            "\u001b[0;32m<ipython-input-17-24b7628f96a1>\u001b[0m in \u001b[0;36m<cell line: 4>\u001b[0;34m()\u001b[0m\n\u001b[1;32m      2\u001b[0m   \u001b[0mprint\u001b[0m\u001b[0;34m(\u001b[0m\u001b[0;34m'123'\u001b[0m\u001b[0;34m)\u001b[0m\u001b[0;34m\u001b[0m\u001b[0;34m\u001b[0m\u001b[0m\n\u001b[1;32m      3\u001b[0m \u001b[0;34m\u001b[0m\u001b[0m\n\u001b[0;32m----> 4\u001b[0;31m \u001b[0mour_print\u001b[0m\u001b[0;34m(\u001b[0m\u001b[0;34m)\u001b[0m\u001b[0;34m\u001b[0m\u001b[0;34m\u001b[0m\u001b[0m\n\u001b[0m",
            "\u001b[0;32m<ipython-input-17-24b7628f96a1>\u001b[0m in \u001b[0;36mour_print\u001b[0;34m()\u001b[0m\n\u001b[1;32m      1\u001b[0m \u001b[0;32mdef\u001b[0m \u001b[0mour_print\u001b[0m\u001b[0;34m(\u001b[0m\u001b[0;34m)\u001b[0m\u001b[0;34m:\u001b[0m\u001b[0;34m\u001b[0m\u001b[0;34m\u001b[0m\u001b[0m\n\u001b[0;32m----> 2\u001b[0;31m   \u001b[0mprint\u001b[0m\u001b[0;34m(\u001b[0m\u001b[0;34m'123'\u001b[0m\u001b[0;34m)\u001b[0m\u001b[0;34m\u001b[0m\u001b[0;34m\u001b[0m\u001b[0m\n\u001b[0m\u001b[1;32m      3\u001b[0m \u001b[0;34m\u001b[0m\u001b[0m\n\u001b[1;32m      4\u001b[0m \u001b[0mour_print\u001b[0m\u001b[0;34m(\u001b[0m\u001b[0;34m)\u001b[0m\u001b[0;34m\u001b[0m\u001b[0;34m\u001b[0m\u001b[0m\n",
            "\u001b[0;31mTypeError\u001b[0m: print() takes 0 positional arguments but 1 was given"
          ]
        }
      ]
    },
    {
      "cell_type": "code",
      "source": [
        "del print"
      ],
      "metadata": {
        "id": "1ypdlayXfPMg"
      },
      "execution_count": null,
      "outputs": []
    },
    {
      "cell_type": "code",
      "source": [
        "import builtins\n",
        "\n",
        "print = builtins.print"
      ],
      "metadata": {
        "id": "gV292_4xgJS0"
      },
      "execution_count": null,
      "outputs": []
    },
    {
      "cell_type": "code",
      "source": [
        "old_print = print\n",
        "\n",
        "def new_print(line):\n",
        "  old_print(\"---START---\")\n",
        "  old_print(line)\n",
        "  old_print(\"---END---\")\n",
        "\n",
        "print = new_print\n",
        "print('123')"
      ],
      "metadata": {
        "colab": {
          "base_uri": "https://localhost:8080/"
        },
        "id": "3A-eQ7LSgGjN",
        "outputId": "43aba5e1-a844-4f5f-f140-aea555a42ddd"
      },
      "execution_count": null,
      "outputs": [
        {
          "output_type": "stream",
          "name": "stdout",
          "text": [
            "---START---\n",
            "123\n",
            "---END---\n"
          ]
        }
      ]
    },
    {
      "cell_type": "code",
      "source": [
        "def pretty_print(header, text, /, border='*', *, epilogue, prologue, **kwargs):\n",
        "  print(prologue)\n",
        "  print(border*30)\n",
        "  print(header)\n",
        "  print(border*10)\n",
        "  print(text)\n",
        "  print(border*30)\n",
        "  print(epilogue)\n",
        "  print(kwargs)\n",
        "\n",
        "pretty_print('Header', 'Chapter 1', prologue = 'Prologue', epilogue = 'Epilogue', before_input = '123')"
      ],
      "metadata": {
        "colab": {
          "base_uri": "https://localhost:8080/"
        },
        "id": "lEXW0M1Ug_gl",
        "outputId": "99486b75-3f50-4f16-9c0e-09edc48f0aff"
      },
      "execution_count": null,
      "outputs": [
        {
          "output_type": "stream",
          "name": "stdout",
          "text": [
            "Prologue\n",
            "******************************\n",
            "Header\n",
            "**********\n",
            "Chapter 1\n",
            "******************************\n",
            "Epilogue\n",
            "{'before_input': '123'}\n"
          ]
        }
      ]
    },
    {
      "cell_type": "code",
      "source": [
        "def sum(*args):\n",
        "  res = 0\n",
        "  for i in args:\n",
        "    res +=i\n",
        "  return res\n",
        "\n",
        "sum(1, 2)\n",
        "sum(1,2,3)\n"
      ],
      "metadata": {
        "id": "cDXLJ_oAidM9"
      },
      "execution_count": null,
      "outputs": []
    },
    {
      "cell_type": "code",
      "source": [
        "def add_to_list(el, l=None):\n",
        "  if not l:\n",
        "    l = []\n",
        "  l.append(el)\n",
        "  return l\n",
        "\n",
        "l1 = [1,2,3]\n",
        "add_to_list(4, l1)\n",
        "l1"
      ],
      "metadata": {
        "colab": {
          "base_uri": "https://localhost:8080/"
        },
        "id": "-jz-GKGcmbot",
        "outputId": "0c778285-a101-479b-8b69-ca55e657b7f0"
      },
      "execution_count": null,
      "outputs": [
        {
          "output_type": "execute_result",
          "data": {
            "text/plain": [
              "[1, 2, 3, 4]"
            ]
          },
          "metadata": {},
          "execution_count": 40
        }
      ]
    },
    {
      "cell_type": "code",
      "source": [
        "add_to_list(5, l1)\n",
        "l1"
      ],
      "metadata": {
        "colab": {
          "base_uri": "https://localhost:8080/"
        },
        "id": "4C_e4kVbmuky",
        "outputId": "e93fa794-0d9b-4d5f-c7de-0557585f305f"
      },
      "execution_count": null,
      "outputs": [
        {
          "output_type": "execute_result",
          "data": {
            "text/plain": [
              "[1, 2, 3, 4, 5]"
            ]
          },
          "metadata": {},
          "execution_count": 41
        }
      ]
    },
    {
      "cell_type": "code",
      "source": [
        "l2 = add_to_list(4)\n",
        "l2"
      ],
      "metadata": {
        "colab": {
          "base_uri": "https://localhost:8080/"
        },
        "id": "gde1jz4Gmy30",
        "outputId": "26aef6f0-49fb-438b-db4e-847e95f8b5f6"
      },
      "execution_count": null,
      "outputs": [
        {
          "output_type": "execute_result",
          "data": {
            "text/plain": [
              "[4]"
            ]
          },
          "metadata": {},
          "execution_count": 42
        }
      ]
    },
    {
      "cell_type": "code",
      "source": [
        "l3 = add_to_list(4)\n",
        "l3"
      ],
      "metadata": {
        "colab": {
          "base_uri": "https://localhost:8080/"
        },
        "id": "EgGDgfGxnEXF",
        "outputId": "164fefb2-f93c-4619-82f1-8910e167b61d"
      },
      "execution_count": null,
      "outputs": [
        {
          "output_type": "execute_result",
          "data": {
            "text/plain": [
              "[4]"
            ]
          },
          "metadata": {},
          "execution_count": 43
        }
      ]
    },
    {
      "cell_type": "code",
      "source": [
        "def mutate_list(l):\n",
        "  l = []\n",
        "  l.append(1)\n",
        "  return l\n",
        "\n",
        "l1 = [1,2,3]\n",
        "l1 = mutate_list(l1)\n",
        "l1"
      ],
      "metadata": {
        "colab": {
          "base_uri": "https://localhost:8080/"
        },
        "id": "21DdpJ9unNyn",
        "outputId": "2a604ba5-f0c6-42bc-fdae-c073f1b9a30d"
      },
      "execution_count": null,
      "outputs": [
        {
          "output_type": "execute_result",
          "data": {
            "text/plain": [
              "[1]"
            ]
          },
          "metadata": {},
          "execution_count": 47
        }
      ]
    },
    {
      "cell_type": "code",
      "source": [
        "def mutate_string(s):\n",
        "  s = s + ' mutated'\n",
        "  return s\n",
        "\n",
        "s = 'test'\n",
        "s = mutate_string(s)\n",
        "s"
      ],
      "metadata": {
        "colab": {
          "base_uri": "https://localhost:8080/",
          "height": 36
        },
        "id": "MGLXmxI6pmUQ",
        "outputId": "f393c8f7-9dfd-4015-9a0a-44b31bfb6202"
      },
      "execution_count": null,
      "outputs": [
        {
          "output_type": "execute_result",
          "data": {
            "text/plain": [
              "'testmutated'"
            ],
            "application/vnd.google.colaboratory.intrinsic+json": {
              "type": "string"
            }
          },
          "metadata": {},
          "execution_count": 51
        }
      ]
    },
    {
      "cell_type": "code",
      "source": [
        "def get_num_list():\n",
        "  return list(range(10))\n",
        "\n",
        "get_num_list()"
      ],
      "metadata": {
        "colab": {
          "base_uri": "https://localhost:8080/"
        },
        "id": "aNLbod1iqj-e",
        "outputId": "6e3c9977-de23-4c63-f8e8-57cb18fbd75e"
      },
      "execution_count": null,
      "outputs": [
        {
          "output_type": "execute_result",
          "data": {
            "text/plain": [
              "list"
            ]
          },
          "metadata": {},
          "execution_count": 57
        }
      ]
    },
    {
      "cell_type": "code",
      "source": [
        "def gen():\n",
        "  for i in range(10):\n",
        "    yield i\n",
        "\n",
        "for i in gen():\n",
        "  print(i)\n",
        "\n",
        "type(gen())"
      ],
      "metadata": {
        "colab": {
          "base_uri": "https://localhost:8080/"
        },
        "id": "VWynTEaQraN2",
        "outputId": "25e2f539-a177-4f68-802c-409bba297037"
      },
      "execution_count": null,
      "outputs": [
        {
          "output_type": "stream",
          "name": "stdout",
          "text": [
            "0\n",
            "1\n",
            "2\n",
            "3\n",
            "4\n",
            "5\n",
            "6\n",
            "7\n",
            "8\n",
            "9\n"
          ]
        },
        {
          "output_type": "execute_result",
          "data": {
            "text/plain": [
              "generator"
            ]
          },
          "metadata": {},
          "execution_count": 58
        }
      ]
    },
    {
      "cell_type": "code",
      "source": [
        "def gen():\n",
        "  for i in range(10):\n",
        "    if i % 2 == 0:\n",
        "      yield str(i) + ' is string'\n",
        "    else:\n",
        "      yield i\n",
        "\n",
        "for i in gen():\n",
        "  print(i)"
      ],
      "metadata": {
        "colab": {
          "base_uri": "https://localhost:8080/"
        },
        "id": "hzWZDh-jrrG0",
        "outputId": "8bddc474-26a9-4ec1-8924-3d56fa003fca"
      },
      "execution_count": null,
      "outputs": [
        {
          "output_type": "stream",
          "name": "stdout",
          "text": [
            "0 is string\n",
            "1\n",
            "2 is string\n",
            "3\n",
            "4 is string\n",
            "5\n",
            "6 is string\n",
            "7\n",
            "8 is string\n",
            "9\n"
          ]
        }
      ]
    },
    {
      "cell_type": "code",
      "source": [
        "def my_func(x):\n",
        "  def my_inner_func():\n",
        "    print(x)\n",
        "  return my_inner_func\n",
        "\n",
        "func = my_func(4)\n",
        "func()\n",
        "func()\n",
        "func"
      ],
      "metadata": {
        "colab": {
          "base_uri": "https://localhost:8080/",
          "height": 138
        },
        "id": "IYeWCAF6sg6W",
        "outputId": "8abadeb7-52cd-4af7-98f4-2eccbf773b04"
      },
      "execution_count": null,
      "outputs": [
        {
          "output_type": "stream",
          "name": "stdout",
          "text": [
            "4\n",
            "4\n"
          ]
        },
        {
          "output_type": "execute_result",
          "data": {
            "text/plain": [
              "<function __main__.my_func.<locals>.my_inner_func()>"
            ],
            "text/html": [
              "<div style=\"max-width:800px; border: 1px solid var(--colab-border-color);\"><style>\n",
              "      pre.function-repr-contents {\n",
              "        overflow-x: auto;\n",
              "        padding: 8px 12px;\n",
              "        max-height: 500px;\n",
              "      }\n",
              "\n",
              "      pre.function-repr-contents.function-repr-contents-collapsed {\n",
              "        cursor: pointer;\n",
              "        max-height: 100px;\n",
              "      }\n",
              "    </style>\n",
              "    <pre style=\"white-space: initial; background:\n",
              "         var(--colab-secondary-surface-color); padding: 8px 12px;\n",
              "         border-bottom: 1px solid var(--colab-border-color);\"><b>my_func.&lt;locals&gt;.my_inner_func</b><br/>def my_inner_func()</pre><pre class=\"function-repr-contents function-repr-contents-collapsed\" style=\"\"><a class=\"filepath\" style=\"display:none\" href=\"#\">/content/&lt;ipython-input-68-da5e1b5bd004&gt;</a>&lt;no docstring&gt;</pre></div>"
            ]
          },
          "metadata": {},
          "execution_count": 68
        }
      ]
    },
    {
      "cell_type": "code",
      "source": [
        "import functools\n",
        "\n",
        "def print_args(func):\n",
        "  @functools.wraps(func)\n",
        "  def wrapper(*args, **kwargs):\n",
        "    print(f\"args={args}\")\n",
        "    print(f\"kwargs={kwargs}\")\n",
        "    result = func(*args, **kwargs)\n",
        "    print(f\"result={result}\")\n",
        "    return result\n",
        "  return wrapper\n",
        "\n",
        "@print_args\n",
        "def sum(a,b, **kwargs):\n",
        "  return a+b\n",
        "\n",
        "result = sum(1,2, test = '123')\n",
        "result"
      ],
      "metadata": {
        "colab": {
          "base_uri": "https://localhost:8080/"
        },
        "id": "raDU8Qq_tWc0",
        "outputId": "c4a44cc8-8039-49b8-d6da-abaa5ad866bc"
      },
      "execution_count": 3,
      "outputs": [
        {
          "output_type": "stream",
          "name": "stdout",
          "text": [
            "args=(1, 2)\n",
            "kwargs={'test': '123'}\n",
            "result=3\n"
          ]
        },
        {
          "output_type": "execute_result",
          "data": {
            "text/plain": [
              "3"
            ]
          },
          "metadata": {},
          "execution_count": 3
        }
      ]
    },
    {
      "cell_type": "code",
      "source": [
        "import time\n",
        "\n",
        "def my_cache(func):\n",
        "  cache = {}\n",
        "  @functools.wraps(func)\n",
        "  def wrapper(*args, **kwargs):\n",
        "    cache_key = args + tuple(kwargs.items())\n",
        "    if cache_key not in cache:\n",
        "      cache[cache_key] = func(*args, **kwargs)\n",
        "    return cache[cache_key]\n",
        "  return wrapper\n",
        "\n",
        "\n",
        "@my_cache\n",
        "def my_print():\n",
        "  time.sleep(5)\n",
        "  return 100\n",
        "\n",
        "@my_cache\n",
        "def sum_long(a, b):\n",
        "  time.sleep(5)\n",
        "  return a+b\n",
        "\n",
        "sum_long(1,2)"
      ],
      "metadata": {
        "colab": {
          "base_uri": "https://localhost:8080/"
        },
        "id": "8VtrmasFtwmx",
        "outputId": "9de1b4c1-a4cd-402c-946e-8888b2d64178"
      },
      "execution_count": null,
      "outputs": [
        {
          "output_type": "execute_result",
          "data": {
            "text/plain": [
              "3"
            ]
          },
          "metadata": {},
          "execution_count": 74
        }
      ]
    },
    {
      "cell_type": "code",
      "source": [
        "sum_long(1,2)"
      ],
      "metadata": {
        "colab": {
          "base_uri": "https://localhost:8080/"
        },
        "id": "ux97hGA213BI",
        "outputId": "3de3ff95-b202-4bda-b2de-9a33b965e923"
      },
      "execution_count": null,
      "outputs": [
        {
          "output_type": "execute_result",
          "data": {
            "text/plain": [
              "3"
            ]
          },
          "metadata": {},
          "execution_count": 75
        }
      ]
    },
    {
      "cell_type": "code",
      "source": [
        "sum_long(1,3)"
      ],
      "metadata": {
        "colab": {
          "base_uri": "https://localhost:8080/"
        },
        "id": "4dMeeBjO16mU",
        "outputId": "321aa575-b554-42a1-bda5-d9198df151e5"
      },
      "execution_count": null,
      "outputs": [
        {
          "output_type": "execute_result",
          "data": {
            "text/plain": [
              "4"
            ]
          },
          "metadata": {},
          "execution_count": 76
        }
      ]
    },
    {
      "cell_type": "code",
      "source": [
        "my_print()"
      ],
      "metadata": {
        "colab": {
          "base_uri": "https://localhost:8080/"
        },
        "id": "2mTz0kFr19ZN",
        "outputId": "4c649f07-2196-41d0-9930-47d1c6aa8f6e"
      },
      "execution_count": null,
      "outputs": [
        {
          "output_type": "execute_result",
          "data": {
            "text/plain": [
              "100"
            ]
          },
          "metadata": {},
          "execution_count": 77
        }
      ]
    },
    {
      "cell_type": "code",
      "source": [
        "my_print()"
      ],
      "metadata": {
        "colab": {
          "base_uri": "https://localhost:8080/"
        },
        "id": "lAreLge92DcG",
        "outputId": "5d44242b-2b29-47bd-d1fe-a653b9ffa1b7"
      },
      "execution_count": null,
      "outputs": [
        {
          "output_type": "execute_result",
          "data": {
            "text/plain": [
              "100"
            ]
          },
          "metadata": {},
          "execution_count": 78
        }
      ]
    },
    {
      "cell_type": "code",
      "source": [
        "@functools.cache\n",
        "def my_print():\n",
        "  time.sleep(5)\n",
        "  return 100\n",
        "\n",
        "my_print()"
      ],
      "metadata": {
        "colab": {
          "base_uri": "https://localhost:8080/"
        },
        "id": "jjCOnDO32HSF",
        "outputId": "49000fee-56b8-4601-d81a-3d6ca59fcf36"
      },
      "execution_count": null,
      "outputs": [
        {
          "output_type": "execute_result",
          "data": {
            "text/plain": [
              "100"
            ]
          },
          "metadata": {},
          "execution_count": 79
        }
      ]
    },
    {
      "cell_type": "code",
      "source": [
        "my_print()"
      ],
      "metadata": {
        "colab": {
          "base_uri": "https://localhost:8080/"
        },
        "id": "42DtNvDD2X9k",
        "outputId": "f693dbcb-2d79-4314-9760-08d747ecfdae"
      },
      "execution_count": null,
      "outputs": [
        {
          "output_type": "execute_result",
          "data": {
            "text/plain": [
              "100"
            ]
          },
          "metadata": {},
          "execution_count": 80
        }
      ]
    },
    {
      "cell_type": "markdown",
      "source": [
        "sum([1,2,3], [2,3,4]) -> [3,5,7]\n",
        "sum(1,2)"
      ],
      "metadata": {
        "id": "MvT2mAGG528P"
      }
    },
    {
      "cell_type": "code",
      "source": [
        "def sum_list(func):\n",
        "  @functools.wraps(func)\n",
        "  def wrapper(*args, **kwargs):\n",
        "    if len(args) != 2:\n",
        "      raise ValueError('Must be 2 lists!')\n",
        "    if type(args[0]) == int and type(args[0]) == int:\n",
        "      return func(*args, **kwargs)\n",
        "    if type(args[0]) == float and type(args[0]) == float:\n",
        "      return func(*args, **kwargs)\n",
        "    if len(args[0]) != len(args[1]):\n",
        "      raise ValueError('Lists have different length!')\n",
        "    c = []\n",
        "    for x in range(0, len(args[0])):\n",
        "      c.append(func(args[0][x], args[1][x]))\n",
        "    return c\n",
        "  return wrapper\n",
        "\n",
        "\n",
        "@sum_list\n",
        "def sum(a,b):\n",
        "  return a+b\n",
        "\n",
        "def mul(a,b):\n",
        "  return a*b\n",
        "\n",
        "result = sum([1,2,3], [2,3,4])\n",
        "print(result) # [3,5,7]\n",
        "result = sum(1,2)\n",
        "print(result) # 3\n",
        "\n",
        "result = sum(1.0,2.0)\n",
        "print(result) # 3.0\n",
        "\n",
        "result = sum([1,2,3], [2,3,4], [2,3,4]) # raise exception"
      ],
      "metadata": {
        "id": "qdZvy8m92Zwr",
        "colab": {
          "base_uri": "https://localhost:8080/",
          "height": 349
        },
        "outputId": "ec2810bd-92af-4b54-ce7c-0e7360036d05"
      },
      "execution_count": 8,
      "outputs": [
        {
          "output_type": "stream",
          "name": "stdout",
          "text": [
            "[3, 5, 7]\n",
            "3\n",
            "3.0\n"
          ]
        },
        {
          "output_type": "error",
          "ename": "ValueError",
          "evalue": "Must be 2 lists!",
          "traceback": [
            "\u001b[0;31m---------------------------------------------------------------------------\u001b[0m",
            "\u001b[0;31mValueError\u001b[0m                                Traceback (most recent call last)",
            "\u001b[0;32m<ipython-input-8-1e8029705d89>\u001b[0m in \u001b[0;36m<cell line: 34>\u001b[0;34m()\u001b[0m\n\u001b[1;32m     32\u001b[0m \u001b[0mprint\u001b[0m\u001b[0;34m(\u001b[0m\u001b[0mresult\u001b[0m\u001b[0;34m)\u001b[0m \u001b[0;31m# 3.0\u001b[0m\u001b[0;34m\u001b[0m\u001b[0;34m\u001b[0m\u001b[0m\n\u001b[1;32m     33\u001b[0m \u001b[0;34m\u001b[0m\u001b[0m\n\u001b[0;32m---> 34\u001b[0;31m \u001b[0mresult\u001b[0m \u001b[0;34m=\u001b[0m \u001b[0msum\u001b[0m\u001b[0;34m(\u001b[0m\u001b[0;34m[\u001b[0m\u001b[0;36m1\u001b[0m\u001b[0;34m,\u001b[0m\u001b[0;36m2\u001b[0m\u001b[0;34m,\u001b[0m\u001b[0;36m3\u001b[0m\u001b[0;34m]\u001b[0m\u001b[0;34m,\u001b[0m \u001b[0;34m[\u001b[0m\u001b[0;36m2\u001b[0m\u001b[0;34m,\u001b[0m\u001b[0;36m3\u001b[0m\u001b[0;34m,\u001b[0m\u001b[0;36m4\u001b[0m\u001b[0;34m]\u001b[0m\u001b[0;34m,\u001b[0m \u001b[0;34m[\u001b[0m\u001b[0;36m2\u001b[0m\u001b[0;34m,\u001b[0m\u001b[0;36m3\u001b[0m\u001b[0;34m,\u001b[0m\u001b[0;36m4\u001b[0m\u001b[0;34m]\u001b[0m\u001b[0;34m)\u001b[0m \u001b[0;31m# raise exception\u001b[0m\u001b[0;34m\u001b[0m\u001b[0;34m\u001b[0m\u001b[0m\n\u001b[0m",
            "\u001b[0;32m<ipython-input-8-1e8029705d89>\u001b[0m in \u001b[0;36mwrapper\u001b[0;34m(*args, **kwargs)\u001b[0m\n\u001b[1;32m      3\u001b[0m   \u001b[0;32mdef\u001b[0m \u001b[0mwrapper\u001b[0m\u001b[0;34m(\u001b[0m\u001b[0;34m*\u001b[0m\u001b[0margs\u001b[0m\u001b[0;34m,\u001b[0m \u001b[0;34m**\u001b[0m\u001b[0mkwargs\u001b[0m\u001b[0;34m)\u001b[0m\u001b[0;34m:\u001b[0m\u001b[0;34m\u001b[0m\u001b[0;34m\u001b[0m\u001b[0m\n\u001b[1;32m      4\u001b[0m     \u001b[0;32mif\u001b[0m \u001b[0mlen\u001b[0m\u001b[0;34m(\u001b[0m\u001b[0margs\u001b[0m\u001b[0;34m)\u001b[0m \u001b[0;34m!=\u001b[0m \u001b[0;36m2\u001b[0m\u001b[0;34m:\u001b[0m\u001b[0;34m\u001b[0m\u001b[0;34m\u001b[0m\u001b[0m\n\u001b[0;32m----> 5\u001b[0;31m       \u001b[0;32mraise\u001b[0m \u001b[0mValueError\u001b[0m\u001b[0;34m(\u001b[0m\u001b[0;34m'Must be 2 lists!'\u001b[0m\u001b[0;34m)\u001b[0m\u001b[0;34m\u001b[0m\u001b[0;34m\u001b[0m\u001b[0m\n\u001b[0m\u001b[1;32m      6\u001b[0m     \u001b[0;32mif\u001b[0m \u001b[0mtype\u001b[0m\u001b[0;34m(\u001b[0m\u001b[0margs\u001b[0m\u001b[0;34m[\u001b[0m\u001b[0;36m0\u001b[0m\u001b[0;34m]\u001b[0m\u001b[0;34m)\u001b[0m \u001b[0;34m==\u001b[0m \u001b[0mint\u001b[0m \u001b[0;32mand\u001b[0m \u001b[0mtype\u001b[0m\u001b[0;34m(\u001b[0m\u001b[0margs\u001b[0m\u001b[0;34m[\u001b[0m\u001b[0;36m0\u001b[0m\u001b[0;34m]\u001b[0m\u001b[0;34m)\u001b[0m \u001b[0;34m==\u001b[0m \u001b[0mint\u001b[0m\u001b[0;34m:\u001b[0m\u001b[0;34m\u001b[0m\u001b[0;34m\u001b[0m\u001b[0m\n\u001b[1;32m      7\u001b[0m       \u001b[0;32mreturn\u001b[0m \u001b[0mfunc\u001b[0m\u001b[0;34m(\u001b[0m\u001b[0;34m*\u001b[0m\u001b[0margs\u001b[0m\u001b[0;34m,\u001b[0m \u001b[0;34m**\u001b[0m\u001b[0mkwargs\u001b[0m\u001b[0;34m)\u001b[0m\u001b[0;34m\u001b[0m\u001b[0;34m\u001b[0m\u001b[0m\n",
            "\u001b[0;31mValueError\u001b[0m: Must be 2 lists!"
          ]
        }
      ]
    },
    {
      "cell_type": "code",
      "source": [
        "square = lambda x: x**2\n",
        "\n",
        "square(4)"
      ],
      "metadata": {
        "colab": {
          "base_uri": "https://localhost:8080/"
        },
        "id": "NGIFcIT17bFn",
        "outputId": "5ad7dfe6-b083-4409-a6f2-bc455f28edaa"
      },
      "execution_count": null,
      "outputs": [
        {
          "output_type": "execute_result",
          "data": {
            "text/plain": [
              "16"
            ]
          },
          "metadata": {},
          "execution_count": 81
        }
      ]
    },
    {
      "cell_type": "code",
      "source": [
        "non_parametrized = lambda: 42\n",
        "\n",
        "non_parametrized()"
      ],
      "metadata": {
        "colab": {
          "base_uri": "https://localhost:8080/"
        },
        "id": "wCJimga77u7D",
        "outputId": "4e63b9df-2b17-44c4-e579-c6143113505e"
      },
      "execution_count": null,
      "outputs": [
        {
          "output_type": "execute_result",
          "data": {
            "text/plain": [
              "42"
            ]
          },
          "metadata": {},
          "execution_count": 82
        }
      ]
    },
    {
      "cell_type": "code",
      "source": [
        "two_more = lambda x, y: x+y\n",
        "\n",
        "two_more(4,3)"
      ],
      "metadata": {
        "colab": {
          "base_uri": "https://localhost:8080/"
        },
        "id": "CTY6CR7D74TC",
        "outputId": "56ce9885-29fa-4ab4-9f90-095efc41e263"
      },
      "execution_count": null,
      "outputs": [
        {
          "output_type": "execute_result",
          "data": {
            "text/plain": [
              "7"
            ]
          },
          "metadata": {},
          "execution_count": 83
        }
      ]
    },
    {
      "cell_type": "code",
      "source": [
        "l = []\n",
        "for i in range(10):\n",
        "  if i % 2 == 0:\n",
        "    l.append(i**2)\n",
        "\n",
        "l"
      ],
      "metadata": {
        "colab": {
          "base_uri": "https://localhost:8080/"
        },
        "id": "DwYDlI848EdQ",
        "outputId": "56297495-dace-4bef-d845-e5671fe2fb8e"
      },
      "execution_count": null,
      "outputs": [
        {
          "output_type": "execute_result",
          "data": {
            "text/plain": [
              "[0, 4, 16, 36, 64]"
            ]
          },
          "metadata": {},
          "execution_count": 84
        }
      ]
    },
    {
      "cell_type": "code",
      "source": [
        "[i for i in range(10)]"
      ],
      "metadata": {
        "colab": {
          "base_uri": "https://localhost:8080/"
        },
        "id": "JGVeRNwB8epa",
        "outputId": "8374c87f-3f04-4ef8-f2a1-fac07cdc7753"
      },
      "execution_count": null,
      "outputs": [
        {
          "output_type": "execute_result",
          "data": {
            "text/plain": [
              "[0, 1, 2, 3, 4, 5, 6, 7, 8, 9]"
            ]
          },
          "metadata": {},
          "execution_count": 85
        }
      ]
    },
    {
      "cell_type": "code",
      "source": [
        "[i**2 for i in range(10)]"
      ],
      "metadata": {
        "colab": {
          "base_uri": "https://localhost:8080/"
        },
        "id": "PuiWpVfU8uuZ",
        "outputId": "b7d870a8-857c-4480-8358-966b99af9aa3"
      },
      "execution_count": null,
      "outputs": [
        {
          "output_type": "execute_result",
          "data": {
            "text/plain": [
              "[0, 1, 4, 9, 16, 25, 36, 49, 64, 81]"
            ]
          },
          "metadata": {},
          "execution_count": 86
        }
      ]
    },
    {
      "cell_type": "code",
      "source": [
        "[i**2 for i in range(10) if i%2==0]"
      ],
      "metadata": {
        "colab": {
          "base_uri": "https://localhost:8080/"
        },
        "id": "oRz6NwtF8ydz",
        "outputId": "4d97e572-a46a-4b1f-b03d-3c8b60a8868c"
      },
      "execution_count": null,
      "outputs": [
        {
          "output_type": "execute_result",
          "data": {
            "text/plain": [
              "[0, 4, 16, 36, 64]"
            ]
          },
          "metadata": {},
          "execution_count": 87
        }
      ]
    },
    {
      "cell_type": "code",
      "source": [
        "{n: n**2 for n in range(5)}"
      ],
      "metadata": {
        "colab": {
          "base_uri": "https://localhost:8080/"
        },
        "id": "CA5ifD9P87U-",
        "outputId": "11223cae-7de2-4610-f3a7-112d9e689d85"
      },
      "execution_count": null,
      "outputs": [
        {
          "output_type": "execute_result",
          "data": {
            "text/plain": [
              "{0: 0, 1: 1, 2: 4, 3: 9, 4: 16}"
            ]
          },
          "metadata": {},
          "execution_count": 88
        }
      ]
    },
    {
      "cell_type": "code",
      "source": [
        "{n: n**2 for n in range(5) if n % 2 == 0}"
      ],
      "metadata": {
        "colab": {
          "base_uri": "https://localhost:8080/"
        },
        "id": "Six7bpt89QO3",
        "outputId": "58faee7a-41cc-420e-9a32-7eff1725623d"
      },
      "execution_count": null,
      "outputs": [
        {
          "output_type": "execute_result",
          "data": {
            "text/plain": [
              "{0: 0, 2: 4, 4: 16}"
            ]
          },
          "metadata": {},
          "execution_count": 89
        }
      ]
    },
    {
      "cell_type": "code",
      "source": [
        "gen = (i for i in range(10))"
      ],
      "metadata": {
        "id": "NPxd150C9X_9"
      },
      "execution_count": null,
      "outputs": []
    },
    {
      "cell_type": "code",
      "source": [
        "[i**3 for i in gen]"
      ],
      "metadata": {
        "colab": {
          "base_uri": "https://localhost:8080/"
        },
        "id": "kO3fz0e-9qWE",
        "outputId": "7c44f5f6-bcdd-4ebb-ab0b-5354293d6079"
      },
      "execution_count": null,
      "outputs": [
        {
          "output_type": "execute_result",
          "data": {
            "text/plain": [
              "[0, 1, 8, 27, 64, 125, 216, 343, 512, 729]"
            ]
          },
          "metadata": {},
          "execution_count": 91
        }
      ]
    },
    {
      "cell_type": "code",
      "source": [
        "lc = lambda p: [i**p for i in range(10)]\n",
        "\n",
        "lc(5)"
      ],
      "metadata": {
        "colab": {
          "base_uri": "https://localhost:8080/"
        },
        "id": "3WDnVgnT94-y",
        "outputId": "0e97d77b-42e3-47a0-dbe4-bacbf7575378"
      },
      "execution_count": null,
      "outputs": [
        {
          "output_type": "execute_result",
          "data": {
            "text/plain": [
              "[0, 1, 32, 243, 1024, 3125, 7776, 16807, 32768, 59049]"
            ]
          },
          "metadata": {},
          "execution_count": 92
        }
      ]
    },
    {
      "cell_type": "code",
      "source": [
        "l1 = list(range(10))\n",
        "\n",
        "list(filter(lambda x: x%2==0, l1))"
      ],
      "metadata": {
        "colab": {
          "base_uri": "https://localhost:8080/"
        },
        "id": "Hwag2H5m-PYX",
        "outputId": "1fd980b1-0b8a-4246-be8d-b149513caf51"
      },
      "execution_count": null,
      "outputs": [
        {
          "output_type": "execute_result",
          "data": {
            "text/plain": [
              "[0, 2, 4, 6, 8]"
            ]
          },
          "metadata": {},
          "execution_count": 94
        }
      ]
    },
    {
      "cell_type": "code",
      "source": [
        "list(map(lambda x: x**2, l1))"
      ],
      "metadata": {
        "colab": {
          "base_uri": "https://localhost:8080/"
        },
        "id": "2Yn2S8Qk_xyj",
        "outputId": "d56d6d84-4566-48a7-a9fe-6bf7cc546316"
      },
      "execution_count": null,
      "outputs": [
        {
          "output_type": "execute_result",
          "data": {
            "text/plain": [
              "[0, 1, 4, 9, 16, 25, 36, 49, 64, 81]"
            ]
          },
          "metadata": {},
          "execution_count": 95
        }
      ]
    },
    {
      "cell_type": "code",
      "source": [
        "from functools import reduce\n",
        "\n",
        "reduce(lambda prev, curr: curr+prev, l1)"
      ],
      "metadata": {
        "colab": {
          "base_uri": "https://localhost:8080/"
        },
        "id": "7MYjI6JsADGf",
        "outputId": "f8d31faf-9a74-4f4b-a10c-ad10f6a45d60"
      },
      "execution_count": null,
      "outputs": [
        {
          "output_type": "execute_result",
          "data": {
            "text/plain": [
              "45"
            ]
          },
          "metadata": {},
          "execution_count": 96
        }
      ]
    },
    {
      "cell_type": "markdown",
      "source": [
        "## Задача:\n",
        "найти максимальный элемент с reduce"
      ],
      "metadata": {
        "id": "PiYbM8v4Bm3z"
      }
    },
    {
      "cell_type": "code",
      "source": [
        "reduce(lambda a, b: a if a > b else b, l1, 5)"
      ],
      "metadata": {
        "colab": {
          "base_uri": "https://localhost:8080/"
        },
        "id": "uAMoSDofAjoG",
        "outputId": "8bb3bd37-b424-4a89-c4ff-2c349cee8242"
      },
      "execution_count": null,
      "outputs": [
        {
          "output_type": "execute_result",
          "data": {
            "text/plain": [
              "9"
            ]
          },
          "metadata": {},
          "execution_count": 97
        }
      ]
    },
    {
      "cell_type": "code",
      "source": [
        "class Animal:\n",
        "  name = \"\"\n",
        "\n",
        "  def great(self, name):\n",
        "    if hasattr(self, 'previous_name') and self.previous_name == name:\n",
        "      print(\"I have already great you!\")\n",
        "    else:\n",
        "      self.previous_name = name\n",
        "      print(f\"Hello, I'm animal {name}\")\n",
        "\n",
        "class Cat(Animal):\n",
        "  pass\n",
        "  # def great(self, name):\n",
        "  #   print(f\"Hello, I'm cat {name}\")\n",
        "\n",
        "new_cat = Cat()\n",
        "new_cat.great('Barsik')"
      ],
      "metadata": {
        "id": "PfEC6DCwDVmy",
        "colab": {
          "base_uri": "https://localhost:8080/"
        },
        "outputId": "41303e65-73b2-4603-9507-2f5739049582"
      },
      "execution_count": 30,
      "outputs": [
        {
          "output_type": "stream",
          "name": "stdout",
          "text": [
            "Hello, I'm animal Barsik\n"
          ]
        }
      ]
    },
    {
      "cell_type": "code",
      "source": [
        "print(dir(Animal))"
      ],
      "metadata": {
        "colab": {
          "base_uri": "https://localhost:8080/"
        },
        "id": "VV8gEGKmq417",
        "outputId": "ed50473f-bbd2-41b8-8f88-6038cb3c079c"
      },
      "execution_count": 12,
      "outputs": [
        {
          "output_type": "stream",
          "name": "stdout",
          "text": [
            "['__class__', '__delattr__', '__dict__', '__dir__', '__doc__', '__eq__', '__format__', '__ge__', '__getattribute__', '__gt__', '__hash__', '__init__', '__init_subclass__', '__le__', '__lt__', '__module__', '__ne__', '__new__', '__reduce__', '__reduce_ex__', '__repr__', '__setattr__', '__sizeof__', '__str__', '__subclasshook__', '__weakref__', 'great']\n"
          ]
        }
      ]
    },
    {
      "cell_type": "code",
      "source": [
        "Animal.great(new_cat, '123')\n"
      ],
      "metadata": {
        "colab": {
          "base_uri": "https://localhost:8080/"
        },
        "id": "Lky6s7o7r_U5",
        "outputId": "24caf749-feaa-43c7-944d-d325710bc70e"
      },
      "execution_count": 25,
      "outputs": [
        {
          "output_type": "stream",
          "name": "stdout",
          "text": [
            "Hello, I'm animal 123\n"
          ]
        }
      ]
    },
    {
      "cell_type": "code",
      "source": [
        "Animal.great(new_cat, '123')"
      ],
      "metadata": {
        "colab": {
          "base_uri": "https://localhost:8080/"
        },
        "id": "sNXzT4CwsdRt",
        "outputId": "d57beb46-69a5-4594-99fb-d14a8db4fc33"
      },
      "execution_count": 26,
      "outputs": [
        {
          "output_type": "stream",
          "name": "stdout",
          "text": [
            "I have already great you!\n"
          ]
        }
      ]
    },
    {
      "cell_type": "code",
      "source": [
        "new_cat.great('Barsik')"
      ],
      "metadata": {
        "colab": {
          "base_uri": "https://localhost:8080/"
        },
        "id": "juE3Q77Xt5G9",
        "outputId": "3c309c28-0adb-408a-ed56-61ce3251b3b7"
      },
      "execution_count": 29,
      "outputs": [
        {
          "output_type": "stream",
          "name": "stdout",
          "text": [
            "I have already great you!\n"
          ]
        }
      ]
    },
    {
      "cell_type": "code",
      "source": [
        "new_cat.name"
      ],
      "metadata": {
        "colab": {
          "base_uri": "https://localhost:8080/",
          "height": 36
        },
        "id": "ugDOVZkzuPiq",
        "outputId": "19856b68-6584-4c8a-da21-677a30b6b8ee"
      },
      "execution_count": 31,
      "outputs": [
        {
          "output_type": "execute_result",
          "data": {
            "text/plain": [
              "''"
            ],
            "application/vnd.google.colaboratory.intrinsic+json": {
              "type": "string"
            }
          },
          "metadata": {},
          "execution_count": 31
        }
      ]
    },
    {
      "cell_type": "code",
      "source": [
        "new_cat.name = 'Barsik'\n",
        "new_cat.name"
      ],
      "metadata": {
        "colab": {
          "base_uri": "https://localhost:8080/",
          "height": 36
        },
        "id": "vHByeTgavS2R",
        "outputId": "ad8dbf9b-9828-4d9e-8847-51130ca84ddd"
      },
      "execution_count": 32,
      "outputs": [
        {
          "output_type": "execute_result",
          "data": {
            "text/plain": [
              "'Barsik'"
            ],
            "application/vnd.google.colaboratory.intrinsic+json": {
              "type": "string"
            }
          },
          "metadata": {},
          "execution_count": 32
        }
      ]
    },
    {
      "cell_type": "code",
      "source": [
        "new_cat2 = Cat()\n",
        "new_cat2.name"
      ],
      "metadata": {
        "colab": {
          "base_uri": "https://localhost:8080/",
          "height": 36
        },
        "id": "2epJ91mLvYK1",
        "outputId": "0bb8383a-a6fc-425f-c5b5-dd009a4d1edc"
      },
      "execution_count": 33,
      "outputs": [
        {
          "output_type": "execute_result",
          "data": {
            "text/plain": [
              "''"
            ],
            "application/vnd.google.colaboratory.intrinsic+json": {
              "type": "string"
            }
          },
          "metadata": {},
          "execution_count": 33
        }
      ]
    },
    {
      "cell_type": "code",
      "source": [
        "Animal.name = \"Unnamed\""
      ],
      "metadata": {
        "id": "S4mcYkYvvfDj"
      },
      "execution_count": 35,
      "outputs": []
    },
    {
      "cell_type": "code",
      "source": [
        "new_cat.name"
      ],
      "metadata": {
        "colab": {
          "base_uri": "https://localhost:8080/",
          "height": 36
        },
        "id": "ip0vcNbYvhU9",
        "outputId": "c62871f2-3775-4d21-b0d7-3ceb107cb66b"
      },
      "execution_count": 36,
      "outputs": [
        {
          "output_type": "execute_result",
          "data": {
            "text/plain": [
              "'Barsik'"
            ],
            "application/vnd.google.colaboratory.intrinsic+json": {
              "type": "string"
            }
          },
          "metadata": {},
          "execution_count": 36
        }
      ]
    },
    {
      "cell_type": "code",
      "source": [
        "Animal.name"
      ],
      "metadata": {
        "colab": {
          "base_uri": "https://localhost:8080/",
          "height": 36
        },
        "id": "rvdwM5ajvnbv",
        "outputId": "0a8d7394-60d3-4910-d539-96270c5cc848"
      },
      "execution_count": 37,
      "outputs": [
        {
          "output_type": "execute_result",
          "data": {
            "text/plain": [
              "'Unnamed'"
            ],
            "application/vnd.google.colaboratory.intrinsic+json": {
              "type": "string"
            }
          },
          "metadata": {},
          "execution_count": 37
        }
      ]
    },
    {
      "cell_type": "code",
      "source": [
        "class Dog(Animal):\n",
        "  length = 0\n",
        "\n",
        "dog = Dog()\n",
        "dog.length"
      ],
      "metadata": {
        "colab": {
          "base_uri": "https://localhost:8080/"
        },
        "id": "opqp7b7rvsTX",
        "outputId": "97064941-c0e7-4122-b75e-1ea84686c9a5"
      },
      "execution_count": 38,
      "outputs": [
        {
          "output_type": "execute_result",
          "data": {
            "text/plain": [
              "0"
            ]
          },
          "metadata": {},
          "execution_count": 38
        }
      ]
    },
    {
      "cell_type": "code",
      "source": [
        "dog.lenght = 5"
      ],
      "metadata": {
        "id": "2u8Bn4Buv_oG"
      },
      "execution_count": 39,
      "outputs": []
    },
    {
      "cell_type": "code",
      "source": [
        "dog.length"
      ],
      "metadata": {
        "colab": {
          "base_uri": "https://localhost:8080/"
        },
        "id": "xsI56um7wGgA",
        "outputId": "588b89f5-f6f8-44ce-a313-3918c14d8daa"
      },
      "execution_count": 40,
      "outputs": [
        {
          "output_type": "execute_result",
          "data": {
            "text/plain": [
              "0"
            ]
          },
          "metadata": {},
          "execution_count": 40
        }
      ]
    },
    {
      "cell_type": "code",
      "source": [
        "print(dir(dog))"
      ],
      "metadata": {
        "colab": {
          "base_uri": "https://localhost:8080/"
        },
        "id": "ha8UCckkwJzN",
        "outputId": "c699856b-57b0-4311-816a-4ad590274a9b"
      },
      "execution_count": 41,
      "outputs": [
        {
          "output_type": "stream",
          "name": "stdout",
          "text": [
            "['__class__', '__delattr__', '__dict__', '__dir__', '__doc__', '__eq__', '__format__', '__ge__', '__getattribute__', '__gt__', '__hash__', '__init__', '__init_subclass__', '__le__', '__lt__', '__module__', '__ne__', '__new__', '__reduce__', '__reduce_ex__', '__repr__', '__setattr__', '__sizeof__', '__str__', '__subclasshook__', '__weakref__', 'great', 'lenght', 'length', 'name']\n"
          ]
        }
      ]
    },
    {
      "cell_type": "code",
      "source": [
        "class Cat:\n",
        "  public_len = 10\n",
        "  __length = 0\n",
        "  __width = 0\n",
        "\n",
        "  def __init__(self, length=4, width=4):\n",
        "    self.__length = length\n",
        "    self.__width = width\n",
        "\n",
        "\n",
        "  def __len__(self):\n",
        "    return self.__length\n",
        "\n",
        "  def __str__(self):\n",
        "    return f\"Little cat\"\n",
        "\n",
        "  def __call__(self):\n",
        "    print(f\"Hello, I'm cat and my square is {self.__length} * {self.__width}\")\n",
        "    return self.__get_region()\n",
        "\n",
        "  def __eq__(self, other):\n",
        "    if not isinstance(other, Cat):\n",
        "      raise TypeError(f'Cat must be compared only with cat, not with {type(other)}')\n",
        "\n",
        "    return self() == other()\n",
        "\n",
        "  def __get_region(self):\n",
        "    return self.__length * self.__width\n",
        "\n",
        "print(dir(Cat))\n",
        "cat = Cat()\n",
        "cat._Cat__length = 4\n",
        "cat._Cat__width = 4\n",
        "result = cat._Cat__get_region()\n",
        "print(result)\n",
        "\n",
        "Cat._Cat__length = 8\n",
        "Cat._Cat__length"
      ],
      "metadata": {
        "colab": {
          "base_uri": "https://localhost:8080/"
        },
        "id": "OPaWVC1zwTqh",
        "outputId": "fee83950-e776-4f04-e909-1225700e7755"
      },
      "execution_count": 65,
      "outputs": [
        {
          "output_type": "stream",
          "name": "stdout",
          "text": [
            "['_Cat__get_region', '_Cat__length', '_Cat__width', '__call__', '__class__', '__delattr__', '__dict__', '__dir__', '__doc__', '__eq__', '__format__', '__ge__', '__getattribute__', '__gt__', '__hash__', '__init__', '__init_subclass__', '__le__', '__len__', '__lt__', '__module__', '__ne__', '__new__', '__reduce__', '__reduce_ex__', '__repr__', '__setattr__', '__sizeof__', '__str__', '__subclasshook__', '__weakref__', 'public_len']\n",
            "16\n"
          ]
        },
        {
          "output_type": "execute_result",
          "data": {
            "text/plain": [
              "8"
            ]
          },
          "metadata": {},
          "execution_count": 65
        }
      ]
    },
    {
      "cell_type": "code",
      "source": [
        "len(cat)"
      ],
      "metadata": {
        "colab": {
          "base_uri": "https://localhost:8080/"
        },
        "id": "WdMDt0oExf-i",
        "outputId": "bc6f0f75-90c0-4b82-87fa-24511871baa8"
      },
      "execution_count": 52,
      "outputs": [
        {
          "output_type": "execute_result",
          "data": {
            "text/plain": [
              "4"
            ]
          },
          "metadata": {},
          "execution_count": 52
        }
      ]
    },
    {
      "cell_type": "code",
      "source": [
        "cat2 = Cat(4,5)\n",
        "if cat == cat2:\n",
        "  print(\"Cats are equals\")"
      ],
      "metadata": {
        "colab": {
          "base_uri": "https://localhost:8080/"
        },
        "id": "98eHho55zlTq",
        "outputId": "57f89271-b2ce-4a78-9ac4-2d5d536bd01a"
      },
      "execution_count": 66,
      "outputs": [
        {
          "output_type": "stream",
          "name": "stdout",
          "text": [
            "Hello, I'm cat and my square is 4 * 4\n",
            "Hello, I'm cat and my square is 4 * 5\n"
          ]
        }
      ]
    },
    {
      "cell_type": "code",
      "source": [
        "print(cat)"
      ],
      "metadata": {
        "colab": {
          "base_uri": "https://localhost:8080/"
        },
        "id": "MWGejHq60JFb",
        "outputId": "e225198a-e6e8-47bb-c36d-4d503686bbd3"
      },
      "execution_count": 63,
      "outputs": [
        {
          "output_type": "stream",
          "name": "stdout",
          "text": [
            "Little cat\n"
          ]
        }
      ]
    },
    {
      "cell_type": "code",
      "source": [
        "import itertools\n",
        "\n",
        "counter = itertools.count(0, 10)"
      ],
      "metadata": {
        "id": "fxQ5m4gl2fYu"
      },
      "execution_count": 67,
      "outputs": []
    },
    {
      "cell_type": "code",
      "source": [
        "next(counter)"
      ],
      "metadata": {
        "colab": {
          "base_uri": "https://localhost:8080/"
        },
        "id": "eKTNUqfH4yH8",
        "outputId": "687cb09a-1a90-4fc2-d449-fe13488b2ff1"
      },
      "execution_count": 68,
      "outputs": [
        {
          "output_type": "execute_result",
          "data": {
            "text/plain": [
              "0"
            ]
          },
          "metadata": {},
          "execution_count": 68
        }
      ]
    },
    {
      "cell_type": "code",
      "source": [
        "next(counter)"
      ],
      "metadata": {
        "colab": {
          "base_uri": "https://localhost:8080/"
        },
        "id": "dB8PPVLy40nm",
        "outputId": "0e1d0c40-6f82-45df-d9dd-ae11454f83ad"
      },
      "execution_count": 69,
      "outputs": [
        {
          "output_type": "execute_result",
          "data": {
            "text/plain": [
              "10"
            ]
          },
          "metadata": {},
          "execution_count": 69
        }
      ]
    },
    {
      "cell_type": "code",
      "source": [
        "next(counter)"
      ],
      "metadata": {
        "colab": {
          "base_uri": "https://localhost:8080/"
        },
        "id": "wCq7_omq419g",
        "outputId": "8c76e599-53dd-4073-a230-07efb319ae7c"
      },
      "execution_count": 70,
      "outputs": [
        {
          "output_type": "execute_result",
          "data": {
            "text/plain": [
              "20"
            ]
          },
          "metadata": {},
          "execution_count": 70
        }
      ]
    },
    {
      "cell_type": "code",
      "source": [
        "# abcde\n",
        "# a b c d e a b c d e a\n",
        "cycled_letters = itertools.cycle('abcde')\n",
        "counter = 11\n",
        "for i in cycled_letters:\n",
        "  counter = counter - 1\n",
        "  if counter <= 0:\n",
        "    break\n",
        "  print(i)"
      ],
      "metadata": {
        "colab": {
          "base_uri": "https://localhost:8080/"
        },
        "id": "7hJgmGvl42hN",
        "outputId": "0cac1fe0-2616-4171-82e6-b1aabb27c39f"
      },
      "execution_count": 71,
      "outputs": [
        {
          "output_type": "stream",
          "name": "stdout",
          "text": [
            "a\n",
            "b\n",
            "c\n",
            "d\n",
            "e\n",
            "a\n",
            "b\n",
            "c\n",
            "d\n",
            "e\n"
          ]
        }
      ]
    },
    {
      "cell_type": "code",
      "source": [
        "for i in itertools.repeat(10, 5):\n",
        "  print(i)"
      ],
      "metadata": {
        "colab": {
          "base_uri": "https://localhost:8080/"
        },
        "id": "CUWg6H0g7KSd",
        "outputId": "4598fe33-02a7-4f31-c351-7a82e9e2e016"
      },
      "execution_count": 72,
      "outputs": [
        {
          "output_type": "stream",
          "name": "stdout",
          "text": [
            "10\n",
            "10\n",
            "10\n",
            "10\n",
            "10\n"
          ]
        }
      ]
    },
    {
      "cell_type": "code",
      "source": [
        "list(itertools.compress('ABCDEF', [1,0,1,0,1,1]))"
      ],
      "metadata": {
        "colab": {
          "base_uri": "https://localhost:8080/"
        },
        "id": "Hzwx3Qfa7WyP",
        "outputId": "3a99aead-4a35-47df-a554-288e7e114f47"
      },
      "execution_count": 73,
      "outputs": [
        {
          "output_type": "execute_result",
          "data": {
            "text/plain": [
              "['A', 'C', 'E', 'F']"
            ]
          },
          "metadata": {},
          "execution_count": 73
        }
      ]
    },
    {
      "cell_type": "code",
      "source": [
        "# оставить хвост коллекции, начиная с элемента >= 5\n",
        "l= [1,4,6,4,1]\n",
        "list(itertools.dropwhile(lambda x: x < 5, l))"
      ],
      "metadata": {
        "colab": {
          "base_uri": "https://localhost:8080/"
        },
        "id": "jfDWHDh-7v_v",
        "outputId": "6f5b3766-e782-4d38-9d65-ed8f9261a6b0"
      },
      "execution_count": 74,
      "outputs": [
        {
          "output_type": "execute_result",
          "data": {
            "text/plain": [
              "[6, 4, 1]"
            ]
          },
          "metadata": {},
          "execution_count": 74
        }
      ]
    },
    {
      "cell_type": "code",
      "source": [
        "list(itertools.takewhile(lambda x: x<5, [1,4,6,4,1]))"
      ],
      "metadata": {
        "colab": {
          "base_uri": "https://localhost:8080/"
        },
        "id": "Qi1H4deh94Pq",
        "outputId": "454d1cd6-c4eb-4bb6-879f-354b258a57bf"
      },
      "execution_count": 76,
      "outputs": [
        {
          "output_type": "execute_result",
          "data": {
            "text/plain": [
              "[1, 4]"
            ]
          },
          "metadata": {},
          "execution_count": 76
        }
      ]
    },
    {
      "cell_type": "code",
      "source": [],
      "metadata": {
        "id": "hlzbJ-Im-M74"
      },
      "execution_count": null,
      "outputs": []
    },
    {
      "cell_type": "code",
      "source": [
        "from itertools import groupby\n",
        "\n",
        "def grouper(item):\n",
        "  return item['country']\n",
        "\n",
        "data = [\n",
        "    {'city': 'Москва', 'country': 'Россия'},\n",
        "    {'city': 'Новосибирск', 'country': 'Россия'},\n",
        "    {'city': 'Пекин', 'country': 'Китай'},\n",
        "]\n",
        "\n",
        "for key, group_item in groupby(data, key=grouper):\n",
        "  print('Key: %s' % key)\n",
        "  for item in group_item:\n",
        "    print(f\"Item: {item}\")\n",
        "\n",
        "\n"
      ],
      "metadata": {
        "colab": {
          "base_uri": "https://localhost:8080/"
        },
        "id": "sZ7NnGF19Uxt",
        "outputId": "e0c2508f-3f87-4ae5-a9ee-12d834483981"
      },
      "execution_count": 77,
      "outputs": [
        {
          "output_type": "stream",
          "name": "stdout",
          "text": [
            "Key: Россия\n",
            "Item: {'city': 'Москва', 'country': 'Россия'}\n",
            "Item: {'city': 'Новосибирск', 'country': 'Россия'}\n",
            "Key: Китай\n",
            "Item: {'city': 'Пекин', 'country': 'Китай'}\n"
          ]
        }
      ]
    },
    {
      "cell_type": "code",
      "source": [
        "list(itertools.pairwise('ABCDEF'))"
      ],
      "metadata": {
        "colab": {
          "base_uri": "https://localhost:8080/"
        },
        "id": "YPm2dLq7_mXs",
        "outputId": "c1c18408-adc5-4032-fbdb-097ffd3f9fcf"
      },
      "execution_count": 78,
      "outputs": [
        {
          "output_type": "execute_result",
          "data": {
            "text/plain": [
              "[('A', 'B'), ('B', 'C'), ('C', 'D'), ('D', 'E'), ('E', 'F')]"
            ]
          },
          "metadata": {},
          "execution_count": 78
        }
      ]
    },
    {
      "cell_type": "code",
      "source": [
        "list(itertools.combinations('ABCD', 2))"
      ],
      "metadata": {
        "colab": {
          "base_uri": "https://localhost:8080/"
        },
        "id": "HZYkcVQRAMJk",
        "outputId": "fd0ee3ce-ff84-4794-bff6-c6491ec1d828"
      },
      "execution_count": 79,
      "outputs": [
        {
          "output_type": "execute_result",
          "data": {
            "text/plain": [
              "[('A', 'B'), ('A', 'C'), ('A', 'D'), ('B', 'C'), ('B', 'D'), ('C', 'D')]"
            ]
          },
          "metadata": {},
          "execution_count": 79
        }
      ]
    },
    {
      "cell_type": "code",
      "source": [
        "list(zip([1,2,3], [100, 200, 300, 400]))"
      ],
      "metadata": {
        "colab": {
          "base_uri": "https://localhost:8080/"
        },
        "id": "gCEA9HEsA2dX",
        "outputId": "dc9e099f-fd2d-4580-8b9c-0d8b0275e74b"
      },
      "execution_count": 80,
      "outputs": [
        {
          "output_type": "execute_result",
          "data": {
            "text/plain": [
              "[(1, 100), (2, 200), (3, 300)]"
            ]
          },
          "metadata": {},
          "execution_count": 80
        }
      ]
    },
    {
      "cell_type": "code",
      "source": [
        "list(itertools.zip_longest([1,2,3], [100, 200, 300, 400], fillvalue=0))"
      ],
      "metadata": {
        "colab": {
          "base_uri": "https://localhost:8080/"
        },
        "id": "vW_4s-SSEr7g",
        "outputId": "7881e6a0-8222-42d8-9689-cad7db4c1878"
      },
      "execution_count": 82,
      "outputs": [
        {
          "output_type": "execute_result",
          "data": {
            "text/plain": [
              "[(1, 100), (2, 200), (3, 300), (0, 400)]"
            ]
          },
          "metadata": {},
          "execution_count": 82
        }
      ]
    },
    {
      "cell_type": "code",
      "source": [
        "list(itertools.chain([1,2,3], [100, 200, 300, 400]))"
      ],
      "metadata": {
        "colab": {
          "base_uri": "https://localhost:8080/"
        },
        "id": "QoHweqWBE5dp",
        "outputId": "4d5fd502-7c3e-46c4-c9fe-2dbf780f5783"
      },
      "execution_count": 83,
      "outputs": [
        {
          "output_type": "execute_result",
          "data": {
            "text/plain": [
              "[1, 2, 3, 100, 200, 300, 400]"
            ]
          },
          "metadata": {},
          "execution_count": 83
        }
      ]
    },
    {
      "cell_type": "code",
      "source": [
        "list(itertools.starmap(pow, [(2,5), (3,2), (10, 3)]))"
      ],
      "metadata": {
        "colab": {
          "base_uri": "https://localhost:8080/"
        },
        "id": "GnzYBqjSFX1_",
        "outputId": "0ca83027-9ae3-4885-e90d-e9ff0dc09ca6"
      },
      "execution_count": 84,
      "outputs": [
        {
          "output_type": "execute_result",
          "data": {
            "text/plain": [
              "[32, 9, 1000]"
            ]
          },
          "metadata": {},
          "execution_count": 84
        }
      ]
    },
    {
      "cell_type": "code",
      "source": [],
      "metadata": {
        "id": "7MuS3eYMFshC"
      },
      "execution_count": null,
      "outputs": []
    }
  ]
}