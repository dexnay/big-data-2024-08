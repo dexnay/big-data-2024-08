{
  "nbformat": 4,
  "nbformat_minor": 0,
  "metadata": {
    "colab": {
      "provenance": []
    },
    "kernelspec": {
      "name": "python3",
      "display_name": "Python 3"
    },
    "language_info": {
      "name": "python"
    }
  },
  "cells": [
    {
      "cell_type": "code",
      "execution_count": null,
      "metadata": {
        "colab": {
          "base_uri": "https://localhost:8080/"
        },
        "id": "9feZxw5KYQ1b",
        "outputId": "9260468d-70f9-4c3c-c02e-157b870dd6b5"
      },
      "outputs": [
        {
          "output_type": "execute_result",
          "data": {
            "text/plain": [
              "[]"
            ]
          },
          "metadata": {},
          "execution_count": 2
        }
      ],
      "source": [
        "import gc\n",
        "\n",
        "gc.garbage"
      ]
    },
    {
      "cell_type": "code",
      "source": [
        "import dis\n",
        "\n",
        "def hello_world():\n",
        "  print(\"hello world\")\n",
        "\n",
        "dis.dis(hello_world)"
      ],
      "metadata": {
        "colab": {
          "base_uri": "https://localhost:8080/"
        },
        "id": "zF79JWDedtuE",
        "outputId": "2db0441c-540c-409e-9e7f-5a245ee3fb52"
      },
      "execution_count": null,
      "outputs": [
        {
          "output_type": "stream",
          "name": "stdout",
          "text": [
            "  4           0 LOAD_GLOBAL              0 (print)\n",
            "              2 LOAD_CONST               1 ('hello world')\n",
            "              4 CALL_FUNCTION            1\n",
            "              6 POP_TOP\n",
            "              8 LOAD_CONST               0 (None)\n",
            "             10 RETURN_VALUE\n"
          ]
        }
      ]
    },
    {
      "cell_type": "code",
      "source": [
        "gc.collect()"
      ],
      "metadata": {
        "colab": {
          "base_uri": "https://localhost:8080/"
        },
        "id": "C1Mi8lx0ddyE",
        "outputId": "d4c2faea-e3b9-4e88-b949-af4410019587"
      },
      "execution_count": null,
      "outputs": [
        {
          "output_type": "execute_result",
          "data": {
            "text/plain": [
              "23"
            ]
          },
          "metadata": {},
          "execution_count": 3
        }
      ]
    },
    {
      "cell_type": "markdown",
      "source": [
        "## Функции"
      ],
      "metadata": {
        "id": "Hrf6kYYwYWSs"
      }
    },
    {
      "cell_type": "code",
      "source": [
        "def my_function():\n",
        "  pass"
      ],
      "metadata": {
        "id": "_4u_AeOUYaRX"
      },
      "execution_count": null,
      "outputs": []
    },
    {
      "cell_type": "code",
      "source": [
        "result = my_function()\n",
        "result == None"
      ],
      "metadata": {
        "colab": {
          "base_uri": "https://localhost:8080/"
        },
        "id": "70ZamM7qem6d",
        "outputId": "35acc71d-07fc-46ff-b5a3-77c40a2e996a"
      },
      "execution_count": null,
      "outputs": [
        {
          "output_type": "execute_result",
          "data": {
            "text/plain": [
              "True"
            ]
          },
          "metadata": {},
          "execution_count": 14
        }
      ]
    },
    {
      "cell_type": "code",
      "source": [
        "print('123')"
      ],
      "metadata": {
        "colab": {
          "base_uri": "https://localhost:8080/"
        },
        "id": "v5g9a_qFfmtd",
        "outputId": "55d89c19-5446-4b89-c0a0-445d2c9ef72f"
      },
      "execution_count": null,
      "outputs": [
        {
          "output_type": "stream",
          "name": "stdout",
          "text": [
            "123\n"
          ]
        }
      ]
    },
    {
      "cell_type": "code",
      "source": [
        "def our_print():\n",
        "  print('123')\n",
        "\n",
        "our_print()"
      ],
      "metadata": {
        "colab": {
          "base_uri": "https://localhost:8080/",
          "height": 280
        },
        "id": "c3heky-MevZa",
        "outputId": "0863ddb6-8fb1-4177-b486-4891489ab068"
      },
      "execution_count": null,
      "outputs": [
        {
          "output_type": "error",
          "ename": "TypeError",
          "evalue": "print() takes 0 positional arguments but 1 was given",
          "traceback": [
            "\u001b[0;31m---------------------------------------------------------------------------\u001b[0m",
            "\u001b[0;31mTypeError\u001b[0m                                 Traceback (most recent call last)",
            "\u001b[0;32m<ipython-input-17-24b7628f96a1>\u001b[0m in \u001b[0;36m<cell line: 4>\u001b[0;34m()\u001b[0m\n\u001b[1;32m      2\u001b[0m   \u001b[0mprint\u001b[0m\u001b[0;34m(\u001b[0m\u001b[0;34m'123'\u001b[0m\u001b[0;34m)\u001b[0m\u001b[0;34m\u001b[0m\u001b[0;34m\u001b[0m\u001b[0m\n\u001b[1;32m      3\u001b[0m \u001b[0;34m\u001b[0m\u001b[0m\n\u001b[0;32m----> 4\u001b[0;31m \u001b[0mour_print\u001b[0m\u001b[0;34m(\u001b[0m\u001b[0;34m)\u001b[0m\u001b[0;34m\u001b[0m\u001b[0;34m\u001b[0m\u001b[0m\n\u001b[0m",
            "\u001b[0;32m<ipython-input-17-24b7628f96a1>\u001b[0m in \u001b[0;36mour_print\u001b[0;34m()\u001b[0m\n\u001b[1;32m      1\u001b[0m \u001b[0;32mdef\u001b[0m \u001b[0mour_print\u001b[0m\u001b[0;34m(\u001b[0m\u001b[0;34m)\u001b[0m\u001b[0;34m:\u001b[0m\u001b[0;34m\u001b[0m\u001b[0;34m\u001b[0m\u001b[0m\n\u001b[0;32m----> 2\u001b[0;31m   \u001b[0mprint\u001b[0m\u001b[0;34m(\u001b[0m\u001b[0;34m'123'\u001b[0m\u001b[0;34m)\u001b[0m\u001b[0;34m\u001b[0m\u001b[0;34m\u001b[0m\u001b[0m\n\u001b[0m\u001b[1;32m      3\u001b[0m \u001b[0;34m\u001b[0m\u001b[0m\n\u001b[1;32m      4\u001b[0m \u001b[0mour_print\u001b[0m\u001b[0;34m(\u001b[0m\u001b[0;34m)\u001b[0m\u001b[0;34m\u001b[0m\u001b[0;34m\u001b[0m\u001b[0m\n",
            "\u001b[0;31mTypeError\u001b[0m: print() takes 0 positional arguments but 1 was given"
          ]
        }
      ]
    },
    {
      "cell_type": "code",
      "source": [
        "del print"
      ],
      "metadata": {
        "id": "1ypdlayXfPMg"
      },
      "execution_count": null,
      "outputs": []
    },
    {
      "cell_type": "code",
      "source": [
        "import builtins\n",
        "\n",
        "print = builtins.print"
      ],
      "metadata": {
        "id": "gV292_4xgJS0"
      },
      "execution_count": null,
      "outputs": []
    },
    {
      "cell_type": "code",
      "source": [
        "old_print = print\n",
        "\n",
        "def new_print(line):\n",
        "  old_print(\"---START---\")\n",
        "  old_print(line)\n",
        "  old_print(\"---END---\")\n",
        "\n",
        "print = new_print\n",
        "print('123')"
      ],
      "metadata": {
        "colab": {
          "base_uri": "https://localhost:8080/"
        },
        "id": "3A-eQ7LSgGjN",
        "outputId": "43aba5e1-a844-4f5f-f140-aea555a42ddd"
      },
      "execution_count": null,
      "outputs": [
        {
          "output_type": "stream",
          "name": "stdout",
          "text": [
            "---START---\n",
            "123\n",
            "---END---\n"
          ]
        }
      ]
    },
    {
      "cell_type": "code",
      "source": [
        "def pretty_print(header, text, /, border='*', *, epilogue, prologue, **kwargs):\n",
        "  print(prologue)\n",
        "  print(border*30)\n",
        "  print(header)\n",
        "  print(border*10)\n",
        "  print(text)\n",
        "  print(border*30)\n",
        "  print(epilogue)\n",
        "  print(kwargs)\n",
        "\n",
        "pretty_print('Header', 'Chapter 1', prologue = 'Prologue', epilogue = 'Epilogue', before_input = '123')"
      ],
      "metadata": {
        "colab": {
          "base_uri": "https://localhost:8080/"
        },
        "id": "lEXW0M1Ug_gl",
        "outputId": "99486b75-3f50-4f16-9c0e-09edc48f0aff"
      },
      "execution_count": null,
      "outputs": [
        {
          "output_type": "stream",
          "name": "stdout",
          "text": [
            "Prologue\n",
            "******************************\n",
            "Header\n",
            "**********\n",
            "Chapter 1\n",
            "******************************\n",
            "Epilogue\n",
            "{'before_input': '123'}\n"
          ]
        }
      ]
    },
    {
      "cell_type": "code",
      "source": [
        "def sum(*args):\n",
        "  res = 0\n",
        "  for i in args:\n",
        "    res +=i\n",
        "  return res\n",
        "\n",
        "sum(1, 2)\n",
        "sum(1,2,3)\n"
      ],
      "metadata": {
        "id": "cDXLJ_oAidM9"
      },
      "execution_count": null,
      "outputs": []
    },
    {
      "cell_type": "code",
      "source": [
        "def add_to_list(el, l=None):\n",
        "  if not l:\n",
        "    l = []\n",
        "  l.append(el)\n",
        "  return l\n",
        "\n",
        "l1 = [1,2,3]\n",
        "add_to_list(4, l1)\n",
        "l1"
      ],
      "metadata": {
        "colab": {
          "base_uri": "https://localhost:8080/"
        },
        "id": "-jz-GKGcmbot",
        "outputId": "0c778285-a101-479b-8b69-ca55e657b7f0"
      },
      "execution_count": null,
      "outputs": [
        {
          "output_type": "execute_result",
          "data": {
            "text/plain": [
              "[1, 2, 3, 4]"
            ]
          },
          "metadata": {},
          "execution_count": 40
        }
      ]
    },
    {
      "cell_type": "code",
      "source": [
        "add_to_list(5, l1)\n",
        "l1"
      ],
      "metadata": {
        "colab": {
          "base_uri": "https://localhost:8080/"
        },
        "id": "4C_e4kVbmuky",
        "outputId": "e93fa794-0d9b-4d5f-c7de-0557585f305f"
      },
      "execution_count": null,
      "outputs": [
        {
          "output_type": "execute_result",
          "data": {
            "text/plain": [
              "[1, 2, 3, 4, 5]"
            ]
          },
          "metadata": {},
          "execution_count": 41
        }
      ]
    },
    {
      "cell_type": "code",
      "source": [
        "l2 = add_to_list(4)\n",
        "l2"
      ],
      "metadata": {
        "colab": {
          "base_uri": "https://localhost:8080/"
        },
        "id": "gde1jz4Gmy30",
        "outputId": "26aef6f0-49fb-438b-db4e-847e95f8b5f6"
      },
      "execution_count": null,
      "outputs": [
        {
          "output_type": "execute_result",
          "data": {
            "text/plain": [
              "[4]"
            ]
          },
          "metadata": {},
          "execution_count": 42
        }
      ]
    },
    {
      "cell_type": "code",
      "source": [
        "l3 = add_to_list(4)\n",
        "l3"
      ],
      "metadata": {
        "colab": {
          "base_uri": "https://localhost:8080/"
        },
        "id": "EgGDgfGxnEXF",
        "outputId": "164fefb2-f93c-4619-82f1-8910e167b61d"
      },
      "execution_count": null,
      "outputs": [
        {
          "output_type": "execute_result",
          "data": {
            "text/plain": [
              "[4]"
            ]
          },
          "metadata": {},
          "execution_count": 43
        }
      ]
    },
    {
      "cell_type": "code",
      "source": [
        "def mutate_list(l):\n",
        "  l = []\n",
        "  l.append(1)\n",
        "  return l\n",
        "\n",
        "l1 = [1,2,3]\n",
        "l1 = mutate_list(l1)\n",
        "l1"
      ],
      "metadata": {
        "colab": {
          "base_uri": "https://localhost:8080/"
        },
        "id": "21DdpJ9unNyn",
        "outputId": "2a604ba5-f0c6-42bc-fdae-c073f1b9a30d"
      },
      "execution_count": null,
      "outputs": [
        {
          "output_type": "execute_result",
          "data": {
            "text/plain": [
              "[1]"
            ]
          },
          "metadata": {},
          "execution_count": 47
        }
      ]
    },
    {
      "cell_type": "code",
      "source": [
        "def mutate_string(s):\n",
        "  s = s + ' mutated'\n",
        "  return s\n",
        "\n",
        "s = 'test'\n",
        "s = mutate_string(s)\n",
        "s"
      ],
      "metadata": {
        "colab": {
          "base_uri": "https://localhost:8080/",
          "height": 36
        },
        "id": "MGLXmxI6pmUQ",
        "outputId": "f393c8f7-9dfd-4015-9a0a-44b31bfb6202"
      },
      "execution_count": null,
      "outputs": [
        {
          "output_type": "execute_result",
          "data": {
            "text/plain": [
              "'testmutated'"
            ],
            "application/vnd.google.colaboratory.intrinsic+json": {
              "type": "string"
            }
          },
          "metadata": {},
          "execution_count": 51
        }
      ]
    },
    {
      "cell_type": "code",
      "source": [
        "def get_num_list():\n",
        "  return list(range(10))\n",
        "\n",
        "get_num_list()"
      ],
      "metadata": {
        "colab": {
          "base_uri": "https://localhost:8080/"
        },
        "id": "aNLbod1iqj-e",
        "outputId": "6e3c9977-de23-4c63-f8e8-57cb18fbd75e"
      },
      "execution_count": null,
      "outputs": [
        {
          "output_type": "execute_result",
          "data": {
            "text/plain": [
              "list"
            ]
          },
          "metadata": {},
          "execution_count": 57
        }
      ]
    },
    {
      "cell_type": "code",
      "source": [
        "def gen():\n",
        "  for i in range(10):\n",
        "    yield i\n",
        "\n",
        "for i in gen():\n",
        "  print(i)\n",
        "\n",
        "type(gen())"
      ],
      "metadata": {
        "colab": {
          "base_uri": "https://localhost:8080/"
        },
        "id": "VWynTEaQraN2",
        "outputId": "25e2f539-a177-4f68-802c-409bba297037"
      },
      "execution_count": null,
      "outputs": [
        {
          "output_type": "stream",
          "name": "stdout",
          "text": [
            "0\n",
            "1\n",
            "2\n",
            "3\n",
            "4\n",
            "5\n",
            "6\n",
            "7\n",
            "8\n",
            "9\n"
          ]
        },
        {
          "output_type": "execute_result",
          "data": {
            "text/plain": [
              "generator"
            ]
          },
          "metadata": {},
          "execution_count": 58
        }
      ]
    },
    {
      "cell_type": "code",
      "source": [
        "def gen():\n",
        "  for i in range(10):\n",
        "    if i % 2 == 0:\n",
        "      yield str(i) + ' is string'\n",
        "    else:\n",
        "      yield i\n",
        "\n",
        "for i in gen():\n",
        "  print(i)"
      ],
      "metadata": {
        "colab": {
          "base_uri": "https://localhost:8080/"
        },
        "id": "hzWZDh-jrrG0",
        "outputId": "8bddc474-26a9-4ec1-8924-3d56fa003fca"
      },
      "execution_count": null,
      "outputs": [
        {
          "output_type": "stream",
          "name": "stdout",
          "text": [
            "0 is string\n",
            "1\n",
            "2 is string\n",
            "3\n",
            "4 is string\n",
            "5\n",
            "6 is string\n",
            "7\n",
            "8 is string\n",
            "9\n"
          ]
        }
      ]
    },
    {
      "cell_type": "code",
      "source": [
        "def my_func(x):\n",
        "  def my_inner_func():\n",
        "    print(x)\n",
        "  return my_inner_func\n",
        "\n",
        "func = my_func(4)\n",
        "func()\n",
        "func()\n",
        "func"
      ],
      "metadata": {
        "colab": {
          "base_uri": "https://localhost:8080/",
          "height": 138
        },
        "id": "IYeWCAF6sg6W",
        "outputId": "8abadeb7-52cd-4af7-98f4-2eccbf773b04"
      },
      "execution_count": null,
      "outputs": [
        {
          "output_type": "stream",
          "name": "stdout",
          "text": [
            "4\n",
            "4\n"
          ]
        },
        {
          "output_type": "execute_result",
          "data": {
            "text/plain": [
              "<function __main__.my_func.<locals>.my_inner_func()>"
            ],
            "text/html": [
              "<div style=\"max-width:800px; border: 1px solid var(--colab-border-color);\"><style>\n",
              "      pre.function-repr-contents {\n",
              "        overflow-x: auto;\n",
              "        padding: 8px 12px;\n",
              "        max-height: 500px;\n",
              "      }\n",
              "\n",
              "      pre.function-repr-contents.function-repr-contents-collapsed {\n",
              "        cursor: pointer;\n",
              "        max-height: 100px;\n",
              "      }\n",
              "    </style>\n",
              "    <pre style=\"white-space: initial; background:\n",
              "         var(--colab-secondary-surface-color); padding: 8px 12px;\n",
              "         border-bottom: 1px solid var(--colab-border-color);\"><b>my_func.&lt;locals&gt;.my_inner_func</b><br/>def my_inner_func()</pre><pre class=\"function-repr-contents function-repr-contents-collapsed\" style=\"\"><a class=\"filepath\" style=\"display:none\" href=\"#\">/content/&lt;ipython-input-68-da5e1b5bd004&gt;</a>&lt;no docstring&gt;</pre></div>"
            ]
          },
          "metadata": {},
          "execution_count": 68
        }
      ]
    },
    {
      "cell_type": "code",
      "source": [
        "import functools\n",
        "\n",
        "def print_args(func):\n",
        "  @functools.wraps(func)\n",
        "  def wrapper(*args, **kwargs):\n",
        "    print(f\"args={args}\")\n",
        "    print(f\"kwargs={kwargs}\")\n",
        "    result = func(*args, **kwargs)\n",
        "    print(f\"result={result}\")\n",
        "    return result\n",
        "  return wrapper\n",
        "\n",
        "@print_args\n",
        "def sum(a,b, **kwargs):\n",
        "  return a+b\n",
        "\n",
        "result = sum(1,2, test = '123')\n",
        "result"
      ],
      "metadata": {
        "colab": {
          "base_uri": "https://localhost:8080/"
        },
        "id": "raDU8Qq_tWc0",
        "outputId": "4b921fcf-6e13-4bfd-fff9-96209b1ca7fd"
      },
      "execution_count": null,
      "outputs": [
        {
          "output_type": "stream",
          "name": "stdout",
          "text": [
            "args=(1, 2)\n",
            "kwargs={'test': '123'}\n",
            "result=3\n"
          ]
        },
        {
          "output_type": "execute_result",
          "data": {
            "text/plain": [
              "3"
            ]
          },
          "metadata": {},
          "execution_count": 73
        }
      ]
    },
    {
      "cell_type": "code",
      "source": [
        "import time\n",
        "\n",
        "def my_cache(func):\n",
        "  cache = {}\n",
        "  @functools.wraps(func)\n",
        "  def wrapper(*args, **kwargs):\n",
        "    cache_key = args + tuple(kwargs.items())\n",
        "    if cache_key not in cache:\n",
        "      cache[cache_key] = func(*args, **kwargs)\n",
        "    return cache[cache_key]\n",
        "  return wrapper\n",
        "\n",
        "\n",
        "@my_cache\n",
        "def my_print():\n",
        "  time.sleep(5)\n",
        "  return 100\n",
        "\n",
        "@my_cache\n",
        "def sum_long(a, b):\n",
        "  time.sleep(5)\n",
        "  return a+b\n",
        "\n",
        "sum_long(1,2)"
      ],
      "metadata": {
        "colab": {
          "base_uri": "https://localhost:8080/"
        },
        "id": "8VtrmasFtwmx",
        "outputId": "9de1b4c1-a4cd-402c-946e-8888b2d64178"
      },
      "execution_count": null,
      "outputs": [
        {
          "output_type": "execute_result",
          "data": {
            "text/plain": [
              "3"
            ]
          },
          "metadata": {},
          "execution_count": 74
        }
      ]
    },
    {
      "cell_type": "code",
      "source": [
        "sum_long(1,2)"
      ],
      "metadata": {
        "colab": {
          "base_uri": "https://localhost:8080/"
        },
        "id": "ux97hGA213BI",
        "outputId": "3de3ff95-b202-4bda-b2de-9a33b965e923"
      },
      "execution_count": null,
      "outputs": [
        {
          "output_type": "execute_result",
          "data": {
            "text/plain": [
              "3"
            ]
          },
          "metadata": {},
          "execution_count": 75
        }
      ]
    },
    {
      "cell_type": "code",
      "source": [
        "sum_long(1,3)"
      ],
      "metadata": {
        "colab": {
          "base_uri": "https://localhost:8080/"
        },
        "id": "4dMeeBjO16mU",
        "outputId": "321aa575-b554-42a1-bda5-d9198df151e5"
      },
      "execution_count": null,
      "outputs": [
        {
          "output_type": "execute_result",
          "data": {
            "text/plain": [
              "4"
            ]
          },
          "metadata": {},
          "execution_count": 76
        }
      ]
    },
    {
      "cell_type": "code",
      "source": [
        "my_print()"
      ],
      "metadata": {
        "colab": {
          "base_uri": "https://localhost:8080/"
        },
        "id": "2mTz0kFr19ZN",
        "outputId": "4c649f07-2196-41d0-9930-47d1c6aa8f6e"
      },
      "execution_count": null,
      "outputs": [
        {
          "output_type": "execute_result",
          "data": {
            "text/plain": [
              "100"
            ]
          },
          "metadata": {},
          "execution_count": 77
        }
      ]
    },
    {
      "cell_type": "code",
      "source": [
        "my_print()"
      ],
      "metadata": {
        "colab": {
          "base_uri": "https://localhost:8080/"
        },
        "id": "lAreLge92DcG",
        "outputId": "5d44242b-2b29-47bd-d1fe-a653b9ffa1b7"
      },
      "execution_count": null,
      "outputs": [
        {
          "output_type": "execute_result",
          "data": {
            "text/plain": [
              "100"
            ]
          },
          "metadata": {},
          "execution_count": 78
        }
      ]
    },
    {
      "cell_type": "code",
      "source": [
        "@functools.cache\n",
        "def my_print():\n",
        "  time.sleep(5)\n",
        "  return 100\n",
        "\n",
        "my_print()"
      ],
      "metadata": {
        "colab": {
          "base_uri": "https://localhost:8080/"
        },
        "id": "jjCOnDO32HSF",
        "outputId": "49000fee-56b8-4601-d81a-3d6ca59fcf36"
      },
      "execution_count": null,
      "outputs": [
        {
          "output_type": "execute_result",
          "data": {
            "text/plain": [
              "100"
            ]
          },
          "metadata": {},
          "execution_count": 79
        }
      ]
    },
    {
      "cell_type": "code",
      "source": [
        "my_print()"
      ],
      "metadata": {
        "colab": {
          "base_uri": "https://localhost:8080/"
        },
        "id": "42DtNvDD2X9k",
        "outputId": "f693dbcb-2d79-4314-9760-08d747ecfdae"
      },
      "execution_count": null,
      "outputs": [
        {
          "output_type": "execute_result",
          "data": {
            "text/plain": [
              "100"
            ]
          },
          "metadata": {},
          "execution_count": 80
        }
      ]
    },
    {
      "cell_type": "markdown",
      "source": [
        "sum([1,2,3], [2,3,4]) -> [3,5,7]\n",
        "sum(1,2)"
      ],
      "metadata": {
        "id": "MvT2mAGG528P"
      }
    },
    {
      "cell_type": "code",
      "source": [
        "def sum_list(func):\n",
        "  pass # todo\n",
        "\n",
        "@sum_list\n",
        "def sum(a,b):\n",
        "  return a+b\n",
        "\n",
        "result = sum([1,2,3], [2,3,4])\n",
        "print(result) # [3,5,7]\n",
        "result = sum(1,2)\n",
        "print(result) # 3\n",
        "\n",
        "result = sum([1,2,3], [2,3,4], [2,3,4]) # raise exception"
      ],
      "metadata": {
        "id": "qdZvy8m92Zwr"
      },
      "execution_count": null,
      "outputs": []
    },
    {
      "cell_type": "code",
      "source": [
        "square = lambda x: x**2\n",
        "\n",
        "square(4)"
      ],
      "metadata": {
        "colab": {
          "base_uri": "https://localhost:8080/"
        },
        "id": "NGIFcIT17bFn",
        "outputId": "5ad7dfe6-b083-4409-a6f2-bc455f28edaa"
      },
      "execution_count": null,
      "outputs": [
        {
          "output_type": "execute_result",
          "data": {
            "text/plain": [
              "16"
            ]
          },
          "metadata": {},
          "execution_count": 81
        }
      ]
    },
    {
      "cell_type": "code",
      "source": [
        "non_parametrized = lambda: 42\n",
        "\n",
        "non_parametrized()"
      ],
      "metadata": {
        "colab": {
          "base_uri": "https://localhost:8080/"
        },
        "id": "wCJimga77u7D",
        "outputId": "4e63b9df-2b17-44c4-e579-c6143113505e"
      },
      "execution_count": null,
      "outputs": [
        {
          "output_type": "execute_result",
          "data": {
            "text/plain": [
              "42"
            ]
          },
          "metadata": {},
          "execution_count": 82
        }
      ]
    },
    {
      "cell_type": "code",
      "source": [
        "two_more = lambda x, y: x+y\n",
        "\n",
        "two_more(4,3)"
      ],
      "metadata": {
        "colab": {
          "base_uri": "https://localhost:8080/"
        },
        "id": "CTY6CR7D74TC",
        "outputId": "56ce9885-29fa-4ab4-9f90-095efc41e263"
      },
      "execution_count": null,
      "outputs": [
        {
          "output_type": "execute_result",
          "data": {
            "text/plain": [
              "7"
            ]
          },
          "metadata": {},
          "execution_count": 83
        }
      ]
    },
    {
      "cell_type": "code",
      "source": [
        "l = []\n",
        "for i in range(10):\n",
        "  if i % 2 == 0:\n",
        "    l.append(i**2)\n",
        "\n",
        "l"
      ],
      "metadata": {
        "colab": {
          "base_uri": "https://localhost:8080/"
        },
        "id": "DwYDlI848EdQ",
        "outputId": "56297495-dace-4bef-d845-e5671fe2fb8e"
      },
      "execution_count": null,
      "outputs": [
        {
          "output_type": "execute_result",
          "data": {
            "text/plain": [
              "[0, 4, 16, 36, 64]"
            ]
          },
          "metadata": {},
          "execution_count": 84
        }
      ]
    },
    {
      "cell_type": "code",
      "source": [
        "[i for i in range(10)]"
      ],
      "metadata": {
        "colab": {
          "base_uri": "https://localhost:8080/"
        },
        "id": "JGVeRNwB8epa",
        "outputId": "8374c87f-3f04-4ef8-f2a1-fac07cdc7753"
      },
      "execution_count": null,
      "outputs": [
        {
          "output_type": "execute_result",
          "data": {
            "text/plain": [
              "[0, 1, 2, 3, 4, 5, 6, 7, 8, 9]"
            ]
          },
          "metadata": {},
          "execution_count": 85
        }
      ]
    },
    {
      "cell_type": "code",
      "source": [
        "[i**2 for i in range(10)]"
      ],
      "metadata": {
        "colab": {
          "base_uri": "https://localhost:8080/"
        },
        "id": "PuiWpVfU8uuZ",
        "outputId": "b7d870a8-857c-4480-8358-966b99af9aa3"
      },
      "execution_count": null,
      "outputs": [
        {
          "output_type": "execute_result",
          "data": {
            "text/plain": [
              "[0, 1, 4, 9, 16, 25, 36, 49, 64, 81]"
            ]
          },
          "metadata": {},
          "execution_count": 86
        }
      ]
    },
    {
      "cell_type": "code",
      "source": [
        "[i**2 for i in range(10) if i%2==0]"
      ],
      "metadata": {
        "colab": {
          "base_uri": "https://localhost:8080/"
        },
        "id": "oRz6NwtF8ydz",
        "outputId": "4d97e572-a46a-4b1f-b03d-3c8b60a8868c"
      },
      "execution_count": null,
      "outputs": [
        {
          "output_type": "execute_result",
          "data": {
            "text/plain": [
              "[0, 4, 16, 36, 64]"
            ]
          },
          "metadata": {},
          "execution_count": 87
        }
      ]
    },
    {
      "cell_type": "code",
      "source": [
        "{n: n**2 for n in range(5)}"
      ],
      "metadata": {
        "colab": {
          "base_uri": "https://localhost:8080/"
        },
        "id": "CA5ifD9P87U-",
        "outputId": "11223cae-7de2-4610-f3a7-112d9e689d85"
      },
      "execution_count": null,
      "outputs": [
        {
          "output_type": "execute_result",
          "data": {
            "text/plain": [
              "{0: 0, 1: 1, 2: 4, 3: 9, 4: 16}"
            ]
          },
          "metadata": {},
          "execution_count": 88
        }
      ]
    },
    {
      "cell_type": "code",
      "source": [
        "{n: n**2 for n in range(5) if n % 2 == 0}"
      ],
      "metadata": {
        "colab": {
          "base_uri": "https://localhost:8080/"
        },
        "id": "Six7bpt89QO3",
        "outputId": "58faee7a-41cc-420e-9a32-7eff1725623d"
      },
      "execution_count": null,
      "outputs": [
        {
          "output_type": "execute_result",
          "data": {
            "text/plain": [
              "{0: 0, 2: 4, 4: 16}"
            ]
          },
          "metadata": {},
          "execution_count": 89
        }
      ]
    },
    {
      "cell_type": "code",
      "source": [
        "gen = (i for i in range(10))"
      ],
      "metadata": {
        "id": "NPxd150C9X_9"
      },
      "execution_count": null,
      "outputs": []
    },
    {
      "cell_type": "code",
      "source": [
        "[i**3 for i in gen]"
      ],
      "metadata": {
        "colab": {
          "base_uri": "https://localhost:8080/"
        },
        "id": "kO3fz0e-9qWE",
        "outputId": "7c44f5f6-bcdd-4ebb-ab0b-5354293d6079"
      },
      "execution_count": null,
      "outputs": [
        {
          "output_type": "execute_result",
          "data": {
            "text/plain": [
              "[0, 1, 8, 27, 64, 125, 216, 343, 512, 729]"
            ]
          },
          "metadata": {},
          "execution_count": 91
        }
      ]
    },
    {
      "cell_type": "code",
      "source": [
        "lc = lambda p: [i**p for i in range(10)]\n",
        "\n",
        "lc(5)"
      ],
      "metadata": {
        "colab": {
          "base_uri": "https://localhost:8080/"
        },
        "id": "3WDnVgnT94-y",
        "outputId": "0e97d77b-42e3-47a0-dbe4-bacbf7575378"
      },
      "execution_count": null,
      "outputs": [
        {
          "output_type": "execute_result",
          "data": {
            "text/plain": [
              "[0, 1, 32, 243, 1024, 3125, 7776, 16807, 32768, 59049]"
            ]
          },
          "metadata": {},
          "execution_count": 92
        }
      ]
    },
    {
      "cell_type": "code",
      "source": [
        "l1 = list(range(10))\n",
        "\n",
        "list(filter(lambda x: x%2==0, l1))"
      ],
      "metadata": {
        "colab": {
          "base_uri": "https://localhost:8080/"
        },
        "id": "Hwag2H5m-PYX",
        "outputId": "1fd980b1-0b8a-4246-be8d-b149513caf51"
      },
      "execution_count": null,
      "outputs": [
        {
          "output_type": "execute_result",
          "data": {
            "text/plain": [
              "[0, 2, 4, 6, 8]"
            ]
          },
          "metadata": {},
          "execution_count": 94
        }
      ]
    },
    {
      "cell_type": "code",
      "source": [
        "list(map(lambda x: x**2, l1))"
      ],
      "metadata": {
        "colab": {
          "base_uri": "https://localhost:8080/"
        },
        "id": "2Yn2S8Qk_xyj",
        "outputId": "d56d6d84-4566-48a7-a9fe-6bf7cc546316"
      },
      "execution_count": null,
      "outputs": [
        {
          "output_type": "execute_result",
          "data": {
            "text/plain": [
              "[0, 1, 4, 9, 16, 25, 36, 49, 64, 81]"
            ]
          },
          "metadata": {},
          "execution_count": 95
        }
      ]
    },
    {
      "cell_type": "code",
      "source": [
        "from functools import reduce\n",
        "\n",
        "reduce(lambda prev, curr: curr+prev, l1)"
      ],
      "metadata": {
        "colab": {
          "base_uri": "https://localhost:8080/"
        },
        "id": "7MYjI6JsADGf",
        "outputId": "f8d31faf-9a74-4f4b-a10c-ad10f6a45d60"
      },
      "execution_count": null,
      "outputs": [
        {
          "output_type": "execute_result",
          "data": {
            "text/plain": [
              "45"
            ]
          },
          "metadata": {},
          "execution_count": 96
        }
      ]
    },
    {
      "cell_type": "markdown",
      "source": [
        "## Задача:\n",
        "найти максимальный элемент с reduce"
      ],
      "metadata": {
        "id": "PiYbM8v4Bm3z"
      }
    },
    {
      "cell_type": "code",
      "source": [
        "reduce(lambda a, b: a if a > b else b, l1, 5)"
      ],
      "metadata": {
        "colab": {
          "base_uri": "https://localhost:8080/"
        },
        "id": "uAMoSDofAjoG",
        "outputId": "8bb3bd37-b424-4a89-c4ff-2c349cee8242"
      },
      "execution_count": null,
      "outputs": [
        {
          "output_type": "execute_result",
          "data": {
            "text/plain": [
              "9"
            ]
          },
          "metadata": {},
          "execution_count": 97
        }
      ]
    },
    {
      "cell_type": "code",
      "source": [],
      "metadata": {
        "id": "PfEC6DCwDVmy"
      },
      "execution_count": null,
      "outputs": []
    }
  ]
}