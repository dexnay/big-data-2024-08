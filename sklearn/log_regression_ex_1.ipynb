{
 "cells": [
  {
   "cell_type": "code",
   "execution_count": 1,
   "id": "9f2a43d0-8dd5-4988-98c3-c2318438c3bd",
   "metadata": {},
   "outputs": [],
   "source": [
    "# Import all libraries needed for the tutorial\n",
    "\n",
    "# General syntax to import specific functions in a library:\n",
    "##from (library) import (specific library function)\n",
    "from pandas import DataFrame, read_csv\n",
    "\n",
    "# General syntax to import a library but no functions:\n",
    "##import (library) as (give the library a nickname/alias)\n",
    "import matplotlib.pyplot as plt\n",
    "import pandas as pd #this is how I usually import pandas\n",
    "import sys #only needed to determine Python version number\n",
    "import matplotlib #only needed to determine Matplotlib version number\n",
    "\n",
    "# Enable inline plotting\n",
    "%matplotlib inline"
   ]
  },
  {
   "cell_type": "code",
   "execution_count": null,
   "id": "32d51865-3e9f-4166-a3f5-3d88fe2ccbfd",
   "metadata": {},
   "outputs": [],
   "source": [
    "from sklearn.model_selection import train_test_split\n"
   ]
  },
  {
   "cell_type": "markdown",
   "id": "49721153-8c0a-4acc-b399-753e435323a4",
   "metadata": {},
   "source": [
    "# Задание\n",
    "- поделить на test и train (test не меньше чем 25%)\n",
    "- подобрать наилучшее регрессию с GridSearch\n",
    "- проанализировать признаки (features), отсортировать их по важности, выбрать 2 наиболее важные\n",
    "- построить confusion_matrix для наилучшего регрессии"
   ]
  },
  {
   "cell_type": "code",
   "execution_count": null,
   "id": "7c3e158d-900e-4d39-a446-756817aaed12",
   "metadata": {},
   "outputs": [],
   "source": []
  }
 ],
 "metadata": {
  "kernelspec": {
   "display_name": "Python 3 (ipykernel)",
   "language": "python",
   "name": "python3"
  },
  "language_info": {
   "codemirror_mode": {
    "name": "ipython",
    "version": 3
   },
   "file_extension": ".py",
   "mimetype": "text/x-python",
   "name": "python",
   "nbconvert_exporter": "python",
   "pygments_lexer": "ipython3",
   "version": "3.10.0"
  }
 },
 "nbformat": 4,
 "nbformat_minor": 5
}
