{
 "cells": [
  {
   "cell_type": "code",
   "execution_count": 1,
   "id": "ab831f95-0480-4540-8530-6b3a77180d3d",
   "metadata": {},
   "outputs": [],
   "source": [
    "# Import all libraries needed for the tutorial\n",
    "\n",
    "# General syntax to import specific functions in a library:\n",
    "##from (library) import (specific library function)\n",
    "from pandas import DataFrame, read_csv\n",
    "\n",
    "# General syntax to import a library but no functions:\n",
    "##import (library) as (give the library a nickname/alias)\n",
    "import matplotlib.pyplot as plt\n",
    "import pandas as pd #this is how I usually import pandas\n",
    "import sys #only needed to determine Python version number\n",
    "import matplotlib #only needed to determine Matplotlib version number\n",
    "\n",
    "# Enable inline plotting\n",
    "%matplotlib inline"
   ]
  },
  {
   "cell_type": "markdown",
   "id": "7a0b685e-fe0b-4133-8705-899441cdd214",
   "metadata": {},
   "source": [
    "# Задание\n",
    "- загрузить train датасет\n",
    "- подобрать наилучшее регрессию, подобрать наилучшее дерево с GridSearch, сравнить\n",
    "- проанализировать признаки (features) для дерева, отсортировать их по важности, выбрать 2 наиболее важные\n",
    "- построить confusion_matrix для наилучшего регрессии и наилучшего дерева\n",
    "- для подобранной модели самостоятельно оценить f1_score на контрольной выборке"
   ]
  },
  {
   "cell_type": "code",
   "execution_count": 3,
   "id": "415b3f9a-a066-44a6-afff-8fb1d7d2cb49",
   "metadata": {},
   "outputs": [],
   "source": [
    "from sklearn.model_selection import train_test_split\n",
    "import warnings\n",
    "warnings.filterwarnings(\"ignore\")"
   ]
  },
  {
   "cell_type": "code",
   "execution_count": 4,
   "id": "a4e82205-4a4b-4d2a-978e-134ac00ee483",
   "metadata": {},
   "outputs": [],
   "source": [
    "from sklearn.linear_model import LogisticRegression\n",
    "from sklearn.tree import DecisionTreeClassifier"
   ]
  },
  {
   "cell_type": "code",
   "execution_count": 6,
   "id": "0d17edc7-0678-44f7-8927-05a2467a78a4",
   "metadata": {},
   "outputs": [
    {
     "data": {
      "text/html": [
       "<div>\n",
       "<style scoped>\n",
       "    .dataframe tbody tr th:only-of-type {\n",
       "        vertical-align: middle;\n",
       "    }\n",
       "\n",
       "    .dataframe tbody tr th {\n",
       "        vertical-align: top;\n",
       "    }\n",
       "\n",
       "    .dataframe thead th {\n",
       "        text-align: right;\n",
       "    }\n",
       "</style>\n",
       "<table border=\"1\" class=\"dataframe\">\n",
       "  <thead>\n",
       "    <tr style=\"text-align: right;\">\n",
       "      <th></th>\n",
       "      <th>Длина</th>\n",
       "      <th>Высота</th>\n",
       "      <th>Шерстист</th>\n",
       "      <th>Гавкает</th>\n",
       "      <th>Лазает по деревьям</th>\n",
       "    </tr>\n",
       "  </thead>\n",
       "  <tbody>\n",
       "    <tr>\n",
       "      <th>0</th>\n",
       "      <td>31</td>\n",
       "      <td>37.2</td>\n",
       "      <td>1</td>\n",
       "      <td>1</td>\n",
       "      <td>0</td>\n",
       "    </tr>\n",
       "    <tr>\n",
       "      <th>1</th>\n",
       "      <td>18</td>\n",
       "      <td>21.6</td>\n",
       "      <td>1</td>\n",
       "      <td>0</td>\n",
       "      <td>0</td>\n",
       "    </tr>\n",
       "    <tr>\n",
       "      <th>2</th>\n",
       "      <td>23</td>\n",
       "      <td>27.6</td>\n",
       "      <td>1</td>\n",
       "      <td>0</td>\n",
       "      <td>0</td>\n",
       "    </tr>\n",
       "    <tr>\n",
       "      <th>3</th>\n",
       "      <td>16</td>\n",
       "      <td>19.2</td>\n",
       "      <td>0</td>\n",
       "      <td>1</td>\n",
       "      <td>0</td>\n",
       "    </tr>\n",
       "    <tr>\n",
       "      <th>4</th>\n",
       "      <td>16</td>\n",
       "      <td>19.2</td>\n",
       "      <td>1</td>\n",
       "      <td>1</td>\n",
       "      <td>0</td>\n",
       "    </tr>\n",
       "  </tbody>\n",
       "</table>\n",
       "</div>"
      ],
      "text/plain": [
       "   Длина  Высота  Шерстист  Гавкает  Лазает по деревьям\n",
       "0     31    37.2         1        1                   0\n",
       "1     18    21.6         1        0                   0\n",
       "2     23    27.6         1        0                   0\n",
       "3     16    19.2         0        1                   0\n",
       "4     16    19.2         1        1                   0"
      ]
     },
     "execution_count": 6,
     "metadata": {},
     "output_type": "execute_result"
    }
   ],
   "source": [
    "df = pd.read_csv('../datasets/dogs_n_cats.csv')\n",
    "x_train = df[['Длина','Высота','Шерстист','Гавкает','Лазает по деревьям']]\n",
    "y_train = df['Вид']\n",
    "\n",
    "x_test = pd.read_json('../datasets/dog_n_cats_test.json')\n",
    "x_test.head()"
   ]
  },
  {
   "cell_type": "code",
   "execution_count": 9,
   "id": "787485f7-cae1-4ec3-bfd0-4f58fcba2505",
   "metadata": {},
   "outputs": [
    {
     "name": "stdout",
     "output_type": "stream",
     "text": [
      "1.0\n",
      "{'criterion': 'gini', 'max_depth': 1, 'min_samples_leaf': 1, 'min_samples_split': 2}\n"
     ]
    }
   ],
   "source": [
    "from sklearn.model_selection import RandomizedSearchCV\n",
    "from sklearn.model_selection import GridSearchCV\n",
    "\n",
    "tree_clf = DecisionTreeClassifier()\n",
    "params = {\n",
    "    'max_depth': range(1, 10),\n",
    "    'criterion': ['gini', 'entropy', 'log_loss'],\n",
    "    'min_samples_leaf': range(1, 30),\n",
    "    'min_samples_split': range(2,40)\n",
    "}\n",
    "\n",
    "search = GridSearchCV(tree_clf, params, scoring='f1_micro')\n",
    "search.fit(x_train, y_train)\n",
    "best_tree = search.best_estimator_\n",
    "print(search.best_score_)\n",
    "print(search.best_params_)"
   ]
  },
  {
   "cell_type": "code",
   "execution_count": 10,
   "id": "5ec5daac-94f4-45b0-84d2-75600f169ac6",
   "metadata": {},
   "outputs": [
    {
     "ename": "AttributeError",
     "evalue": "'DecisionTreeClassifier' object has no attribute 'plot_tree'",
     "output_type": "error",
     "traceback": [
      "\u001b[1;31m---------------------------------------------------------------------------\u001b[0m",
      "\u001b[1;31mAttributeError\u001b[0m                            Traceback (most recent call last)",
      "Cell \u001b[1;32mIn[10], line 3\u001b[0m\n\u001b[0;32m      1\u001b[0m fn \u001b[38;5;241m=\u001b[39m [\u001b[38;5;124m'\u001b[39m\u001b[38;5;124mДлина\u001b[39m\u001b[38;5;124m'\u001b[39m,\u001b[38;5;124m'\u001b[39m\u001b[38;5;124mВысота\u001b[39m\u001b[38;5;124m'\u001b[39m,\u001b[38;5;124m'\u001b[39m\u001b[38;5;124mШерстист\u001b[39m\u001b[38;5;124m'\u001b[39m,\u001b[38;5;124m'\u001b[39m\u001b[38;5;124mГавкает\u001b[39m\u001b[38;5;124m'\u001b[39m,\u001b[38;5;124m'\u001b[39m\u001b[38;5;124mЛазает по деревьям\u001b[39m\u001b[38;5;124m'\u001b[39m]\n\u001b[0;32m      2\u001b[0m cn \u001b[38;5;241m=\u001b[39m [\u001b[38;5;124m'\u001b[39m\u001b[38;5;124mкотик\u001b[39m\u001b[38;5;124m'\u001b[39m, \u001b[38;5;124m'\u001b[39m\u001b[38;5;124mсобачка\u001b[39m\u001b[38;5;124m'\u001b[39m]\n\u001b[1;32m----> 3\u001b[0m \u001b[43mbest_tree\u001b[49m\u001b[38;5;241;43m.\u001b[39;49m\u001b[43mplot_tree\u001b[49m(best_tree, filled\u001b[38;5;241m=\u001b[39m\u001b[38;5;28;01mTrue\u001b[39;00m, class_names\u001b[38;5;241m=\u001b[39mcn, feature_names\u001b[38;5;241m=\u001b[39mfn)\n",
      "\u001b[1;31mAttributeError\u001b[0m: 'DecisionTreeClassifier' object has no attribute 'plot_tree'"
     ]
    }
   ],
   "source": [
    "fn = ['Длина','Высота','Шерстист','Гавкает','Лазает по деревьям']\n",
    "cn = ['котик', 'собачка']\n",
    "best_tree.plot_tree(best_tree, filled=True, class_names=cn, feature_names=fn)"
   ]
  },
  {
   "cell_type": "code",
   "execution_count": null,
   "id": "c5ba2307-6610-41ee-809e-305f3c7745e3",
   "metadata": {},
   "outputs": [],
   "source": [
    "tree_clf = DecisionTreeClassifier()\n",
    "params = {\n",
    "    'max_depth': range(1, 10),\n",
    "    'criterion': ['gini', 'entropy', 'log_loss'],\n",
    "    'min_samples_leaf': range(1, 30),\n",
    "    'min_samples_split': range(2,40)\n",
    "}\n",
    "\n",
    "search = RandomizedSearchCV(tree_clf, params, scoring='f1_micro')\n",
    "search.fit(x_train, y_train)\n",
    "best_tree2 = search.best_estimator_\n",
    "print(search.best_score_)\n",
    "print(search.best_params_)"
   ]
  },
  {
   "cell_type": "code",
   "execution_count": null,
   "id": "9b269caf-4a64-4dd5-921c-4f646d3554b9",
   "metadata": {},
   "outputs": [],
   "source": [
    "fn = ['Длина','Высота','Шерстист','Гавкает','Лазает по деревьям']\n",
    "cn = ['котик', 'собачка']\n",
    "best_tree2.plot_tree(best_tree, filled=True, class_names=cn, feature_names=fn)"
   ]
  },
  {
   "cell_type": "code",
   "execution_count": null,
   "id": "96c31c46-8fbc-445a-8f96-09d7187bb0ef",
   "metadata": {},
   "outputs": [],
   "source": [
    "importances_df = pd.DataFrame(best_tree.feature_importances_, columns=['importance'], index=x.columns)\n",
    "importances_df.sort_values(by='importance').plot(kind='barh')"
   ]
  },
  {
   "cell_type": "code",
   "execution_count": null,
   "id": "fac89a4f-f62e-4eb9-a76b-cddb08cc330e",
   "metadata": {},
   "outputs": [],
   "source": [
    "from sklearn.model_selection import RandomizedSearchCV\n",
    "from sklearn.model_selection import GridSearchCV\n",
    "\n",
    "lr_clf = LogisticRegression()\n",
    "params = {\n",
    "    'C': [x/10.0 for x in range(1, 100)],\n",
    "    'penalty': ['l1', 'l2', 'elasticnet'],\n",
    "    'solver': ['lbfgs', 'liblinear', 'newton-cg', 'newton-cholesky', 'sag', 'saga']\n",
    "}\n",
    "\n",
    "search = GridSearchCV(lr_clf, params, scoring='f1_micro')\n",
    "search.fit(x_train, y_train)\n",
    "best_lr = search.best_estimator_\n",
    "print(search.best_score_)\n",
    "print(search.best_params_)"
   ]
  },
  {
   "cell_type": "code",
   "execution_count": null,
   "id": "2effa2c2-419b-4962-88d7-3909a41e0754",
   "metadata": {},
   "outputs": [],
   "source": [
    "y_pred = best_tree.predict(x_test)\n",
    "y_pred"
   ]
  },
  {
   "cell_type": "code",
   "execution_count": null,
   "id": "072e8ea8-8d95-452a-ae9d-956a67bb8116",
   "metadata": {},
   "outputs": [],
   "source": [
    "y_pred = best_tree2.predict(x_test)\n",
    "y_pred"
   ]
  },
  {
   "cell_type": "code",
   "execution_count": null,
   "id": "5bf15327-12fa-431e-a939-7c0475e7109a",
   "metadata": {},
   "outputs": [],
   "source": [
    "y_pred = best_lr.predict(x_test)\n",
    "y_pred"
   ]
  }
 ],
 "metadata": {
  "kernelspec": {
   "display_name": "Python 3 (ipykernel)",
   "language": "python",
   "name": "python3"
  },
  "language_info": {
   "codemirror_mode": {
    "name": "ipython",
    "version": 3
   },
   "file_extension": ".py",
   "mimetype": "text/x-python",
   "name": "python",
   "nbconvert_exporter": "python",
   "pygments_lexer": "ipython3",
   "version": "3.10.0"
  }
 },
 "nbformat": 4,
 "nbformat_minor": 5
}
